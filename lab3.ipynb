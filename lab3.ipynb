{
  "nbformat": 4,
  "nbformat_minor": 0,
  "metadata": {
    "colab": {
      "provenance": []
    },
    "kernelspec": {
      "name": "python3",
      "display_name": "Python 3"
    },
    "language_info": {
      "name": "python"
    }
  },
  "cells": [
    {
      "cell_type": "code",
      "execution_count": 4,
      "metadata": {
        "colab": {
          "base_uri": "https://localhost:8080/"
        },
        "id": "ijSalvtJtT8G",
        "outputId": "065e9366-42b2-4e5d-ea15-3e58492f89ab"
      },
      "outputs": [
        {
          "output_type": "stream",
          "name": "stdout",
          "text": [
            "Ma trận A khả nghịch với định thức: 29.99999999999999\n",
            "Nhập họ tên hoặc mã số sinh viên: le minh tam\n",
            "Thông tin gốc: le minh tam\n",
            "Ma trận đã mã hóa:\n",
            " [[208 136 248]\n",
            " [184   0   0]\n",
            " [241  68 252]]\n",
            "Thông tin giải mã: \u001bCQ\u0018\u0000î*\u0000\"\n"
          ]
        }
      ],
      "source": [
        "#bài 1\n",
        "import numpy as np\n",
        "\n",
        "A = np.array([[2, 1, 3],\n",
        "              [0, 4, 2],\n",
        "              [1, 0, 5]])\n",
        "\n",
        "det_A = np.linalg.det(A)\n",
        "if abs(det_A) > 1e-10:\n",
        "    A_nghich_dao = np.linalg.inv(A)\n",
        "    print(\"Ma trận A khả nghịch với định thức:\", det_A)\n",
        "else:\n",
        "    print(\"Ma trận A không khả nghịch.\")\n",
        "    exit()\n",
        "\n",
        "# b. Nhập họ tên hoặc mã số sinh viên\n",
        "thong_tin = input(\"Nhập họ tên hoặc mã số sinh viên: \")\n",
        "# Chuyển đổi thành số (tổng mã ASCII của mỗi nhóm 3 ký tự)\n",
        "do_dai = len(thong_tin)\n",
        "so_ky_tu_can_bo_sung = (3 - (do_dai % 3)) % 3\n",
        "thong_tin_bo_sung = thong_tin + \" \" * so_ky_tu_can_bo_sung\n",
        "danh_sach_so = [sum(ord(ky_tu) for ky_tu in thong_tin_bo_sung[i:i+3]) for i in range(0, len(thong_tin_bo_sung), 3)]\n",
        "\n",
        "\n",
        "while len(danh_sach_so) < 9:\n",
        "    danh_sach_so.append(0)\n",
        "\n",
        "ma_tran_thong_diep = np.array(danh_sach_so[:9]).reshape(3, 3)\n",
        "\n",
        "# c. Mã hóa thông điệp\n",
        "ma_tran_ma_hoa = np.dot(A, ma_tran_thong_diep) % 256\n",
        "\n",
        "#d\n",
        "ma_tran_giai_ma = np.dot(A_nghich_dao, ma_tran_ma_hoa) % 256\n",
        "danh_sach_so_giai_ma = ma_tran_giai_ma.flatten()\n",
        "thong_tin_giai_ma = \"\"\n",
        "for so in danh_sach_so_giai_ma:\n",
        "    if so != 0:\n",
        "        thong_tin_giai_ma += chr(int(so) % 256)\n",
        "thong_tin_giai_ma = thong_tin_giai_ma.strip()\n",
        "\n",
        "print(\"Thông tin gốc:\", thong_tin)\n",
        "print(\"Ma trận đã mã hóa:\\n\", ma_tran_ma_hoa)\n",
        "print(\"Thông tin giải mã:\", thong_tin_giai_ma)"
      ]
    },
    {
      "cell_type": "code",
      "source": [
        "#Bài 2\n",
        "import numpy as np\n",
        "\n",
        "# Hàm tính p_n và q_n từ danh sách a_i\n",
        "def tinh_phan_so_lien_phan_so(danh_sach_a):\n",
        "    # Khởi tạo ma trận ban đầu [p_n, p_{n-1}; q_n, q_{n-1}]\n",
        "    ket_qua = np.array([[1, 0], [0, 1]], dtype=np.int64)\n",
        "\n",
        "    # Nhân lần lượt với từng ma trận [a_i, 1; 1, 0]\n",
        "    for a_i in danh_sach_a:\n",
        "        ma_tran = np.array([[a_i, 1], [1, 0]], dtype=np.int64)\n",
        "        ket_qua = np.dot(ket_qua, ma_tran)\n",
        "\n",
        "    # Lấy p_n và q_n từ ma trận kết quả\n",
        "    p_n = ket_qua[0, 0]  # Tử số\n",
        "    q_n = ket_qua[1, 0]  # Mẫu số\n",
        "\n",
        "    return p_n, q_n\n",
        "\n",
        "# Nhập danh sách a_i từ người dùng\n",
        "danh_sach_a = list(map(int, input(\"Nhập danh sách a_0, a_1, ..., a_n (cách nhau bởi dấu cách): \").split()))\n",
        "\n",
        "# Tính p_n và q_n\n",
        "p_n, q_n = tinh_phan_so_lien_phan_so(danh_sach_a)\n",
        "\n",
        "# In kết quả\n",
        "print(f\"Phân số là: {p_n}/{q_n}\")"
      ],
      "metadata": {
        "colab": {
          "base_uri": "https://localhost:8080/"
        },
        "id": "KKiEDsoFxR5y",
        "outputId": "93a13c6e-7c2a-4438-ab07-cde33013d4d0"
      },
      "execution_count": 8,
      "outputs": [
        {
          "output_type": "stream",
          "name": "stdout",
          "text": [
            "Nhập danh sách a_0, a_1, ..., a_n (cách nhau bởi dấu cách): 1 2 3\n",
            "Phân số là: 10/7\n"
          ]
        }
      ]
    },
    {
      "cell_type": "code",
      "source": [
        "# b chứng minh\n",
        "#Bằng quy nạp toán học:\n",
        "#Công thức đúng cho $ n = 0 $.\n",
        "#Nếu đúng cho $ n = k $, thì đúng cho $ n = k+1 $.\n",
        "#Do đó, công thức:\n",
        "#$$\\prod_{i=0}^{n} \\begin{bmatrix} a_i & 1 \\\\ 1 & 0 \\end{bmatrix} = \\begin{bmatrix} p_n & p_{n-1} \\\\ q_n & q_{n-1} \\end{bmatrix}$$\n",
        "#đúng cho mọi $ n \\geq 0 $. Điều này có nghĩa là tích các ma trận $ \\begin{bmatrix} a_i & 1 \\\\ 1 & 0 \\end{bmatrix} $ từ $ i = 0 $ đến $ n $ sẽ cho ra ma trận chứa tử số $ p_n $ và mẫu số $ q_n $ của liên phân số, cùng với các giá trị trước đó $ p_{n-1} $ và $ q_{n-1} $."
      ],
      "metadata": {
        "id": "WtBI3y902JnK"
      },
      "execution_count": null,
      "outputs": []
    },
    {
      "cell_type": "code",
      "source": [
        "#Một số phép xử lý ma trận của NumPy và Scip\n",
        "from scipy import linalg\n",
        "import numpy as np\n",
        "\n",
        "a = np.array([1, 2, 3])\n",
        "b = np.array([(1+9j, 2j, 3j), (4j, 5j, 6j)])\n",
        "c = np.array([[(0.5, 1.5, 10), (3, 2, 1)], [(6, 5, 4), (7, 8, 9)]])\n",
        "A = np.matrix(np.random.random((2, 2)))  # Đã sửa trước đó\n",
        "B = np.asmatrix(b)\n",
        "C = np.asmatrix(np.random.random((10, 5)))  # Thay np.mat bằng np.asmatrix\n",
        "D = np.asmatrix([[4, 3], [2, 6]])  # Thay np.mat bằng np.asmatrix\n",
        "F = np.eye(3, k=1)\n",
        "\n",
        "print(A)"
      ],
      "metadata": {
        "colab": {
          "base_uri": "https://localhost:8080/"
        },
        "id": "cBWdr5XO2V3_",
        "outputId": "52d7387e-fb82-4e76-c502-7d22f80bd842"
      },
      "execution_count": 11,
      "outputs": [
        {
          "output_type": "stream",
          "name": "stdout",
          "text": [
            "[[0.21075207 0.1191824 ]\n",
            " [0.26210649 0.49455862]]\n"
          ]
        }
      ]
    },
    {
      "cell_type": "code",
      "source": [
        "#Giả các phương trình tuyến tình\n",
        "from scipy import linalg\n",
        "import numpy as np\n",
        "\n",
        "a = np.array([1, 2, 3])\n",
        "b = np.array([(1+9j, 2j, 3j), (4j, 5j, 6j)])  # Số phức, kích thước 2x3\n",
        "# Giả định A là ma trận 2x2 ngẫu nhiên, ví dụ: A = [[0.1, 0.2], [0.3, 0.4]]\n",
        "A = np.matrix([[0.1, 0.2], [0.3, 0.4]])\n",
        "B = np.asmatrix(b)  # Ma trận 2x3 số phức\n",
        "C = np.asmatrix(np.random.random((10, 5)))  # Không dùng trực tiếp\n",
        "D = np.asmatrix([[4, 3], [2, 6]])  # Ma trận 2x2\n",
        "F = np.eye(3, k=1)  # Ma trận 3x3, [[0, 1, 0], [0, 0, 1], [0, 0, 0]]"
      ],
      "metadata": {
        "id": "-ukdVQ4U3Gs2"
      },
      "execution_count": 12,
      "outputs": []
    },
    {
      "cell_type": "code",
      "source": [
        "import numpy as np\n",
        "\n",
        "# Tính ma trận A và các lũy thừa của nó\n",
        "print(\"Ma trận A và các lũy thừa của nó:\")\n",
        "A = np.array([[0,1], [1,0]])\n",
        "print(\"A =\")\n",
        "print(A)\n",
        "print(\"---\")\n",
        "\n",
        "# Tính lần thứ nhất (A^2)\n",
        "temp = A.dot(A)\n",
        "print(\"A^2 =\")\n",
        "print(temp)\n",
        "print(\"---\")\n",
        "\n",
        "# Tính A^3 đến A^6\n",
        "k = 6\n",
        "for i in range(k-1):\n",
        "    temp = temp.dot(A)\n",
        "    print(f\"A^{i+3} =\")\n",
        "    print(temp)\n",
        "    print(\"---\")\n",
        "\n",
        "print(\"Nhận xét: Ma trận A lặp lại chu kỳ 2 bước: A^2=I, A^3=A, A^4=I,... Không hội tụ về 1 ma trận duy nhất.\")\n",
        "\n",
        "print(\"\\n\" + \"=\"*50 + \"\\n\")\n",
        "\n",
        "# Tính ma trận B và các lũy thừa của nó\n",
        "print(\"Ma trận B và các lũy thừa của nó:\")\n",
        "B = np.array([[0,-1], [-1,0]])\n",
        "print(\"B =\")\n",
        "print(B)\n",
        "print(\"---\")\n",
        "\n",
        "# Tính lần thứ nhất (B^2)\n",
        "temp = B.dot(B)\n",
        "print(\"B^2 =\")\n",
        "print(temp)\n",
        "print(\"---\")\n",
        "\n",
        "# Tính B^3 đến B^5\n",
        "k = 5\n",
        "for i in range(k-1):\n",
        "    temp = temp.dot(B)\n",
        "    print(f\"B^{i+3} =\")\n",
        "    print(temp)\n",
        "    print(\"---\")\n",
        "\n",
        "print(\"Nhận xét: Ma trận B cũng lặp lại chu kỳ 2 bước: B^2=I, B^3=B, B^4=I,... Không hội tụ về 1 ma trận duy nhất.\")\n"
      ],
      "metadata": {
        "colab": {
          "base_uri": "https://localhost:8080/"
        },
        "id": "WBK3PHjV3Uo5",
        "outputId": "a230a312-f54e-4be2-8552-37280511b509"
      },
      "execution_count": 13,
      "outputs": [
        {
          "output_type": "stream",
          "name": "stdout",
          "text": [
            "Ma trận A và các lũy thừa của nó:\n",
            "A =\n",
            "[[0 1]\n",
            " [1 0]]\n",
            "---\n",
            "A^2 =\n",
            "[[1 0]\n",
            " [0 1]]\n",
            "---\n",
            "A^3 =\n",
            "[[0 1]\n",
            " [1 0]]\n",
            "---\n",
            "A^4 =\n",
            "[[1 0]\n",
            " [0 1]]\n",
            "---\n",
            "A^5 =\n",
            "[[0 1]\n",
            " [1 0]]\n",
            "---\n",
            "A^6 =\n",
            "[[1 0]\n",
            " [0 1]]\n",
            "---\n",
            "A^7 =\n",
            "[[0 1]\n",
            " [1 0]]\n",
            "---\n",
            "Nhận xét: Ma trận A lặp lại chu kỳ 2 bước: A^2=I, A^3=A, A^4=I,... Không hội tụ về 1 ma trận duy nhất.\n",
            "\n",
            "==================================================\n",
            "\n",
            "Ma trận B và các lũy thừa của nó:\n",
            "B =\n",
            "[[ 0 -1]\n",
            " [-1  0]]\n",
            "---\n",
            "B^2 =\n",
            "[[1 0]\n",
            " [0 1]]\n",
            "---\n",
            "B^3 =\n",
            "[[ 0 -1]\n",
            " [-1  0]]\n",
            "---\n",
            "B^4 =\n",
            "[[1 0]\n",
            " [0 1]]\n",
            "---\n",
            "B^5 =\n",
            "[[ 0 -1]\n",
            " [-1  0]]\n",
            "---\n",
            "B^6 =\n",
            "[[1 0]\n",
            " [0 1]]\n",
            "---\n",
            "Nhận xét: Ma trận B cũng lặp lại chu kỳ 2 bước: B^2=I, B^3=B, B^4=I,... Không hội tụ về 1 ma trận duy nhất.\n"
          ]
        }
      ]
    },
    {
      "cell_type": "code",
      "source": [
        "import numpy as np\n",
        "\n",
        "# Khởi tạo ma trận C\n",
        "C = np.array([\n",
        "    [1, 0, 0],\n",
        "    [0, 0.5, 1],\n",
        "    [0, 0, 0.5]\n",
        "])\n",
        "print(\"Ma trận C =\")\n",
        "print(C)\n",
        "print(\"---\")\n",
        "\n",
        "# Tính toán lần thứ nhất (C^2)\n",
        "temp = C.dot(C)\n",
        "print(\"C^2 =\")\n",
        "print(temp)\n",
        "print(\"---\")\n",
        "\n",
        "# Tính lũy thừa bậc 1000 (C^1000)\n",
        "k = 1000\n",
        "for i in range(k-1):\n",
        "    temp = temp.dot(C)\n",
        "print(f\"C^{k} =\")\n",
        "print(temp)\n",
        "\n",
        "\n",
        "# Thực hiện thêm 1000 lần tích nữa (C^2000)\n",
        "k = 1000\n",
        "for i in range(k-1):\n",
        "    temp = temp.dot(C)\n",
        "print(f\"C^{2*k} =\")\n",
        "print(temp)\n",
        "\n"
      ],
      "metadata": {
        "colab": {
          "base_uri": "https://localhost:8080/"
        },
        "id": "1pH7XsDM4FM4",
        "outputId": "7a4492d5-22b0-4109-9eac-b9d3eba75445"
      },
      "execution_count": 24,
      "outputs": [
        {
          "output_type": "stream",
          "name": "stdout",
          "text": [
            "Ma trận C =\n",
            "[[1.  0.  0. ]\n",
            " [0.  0.5 1. ]\n",
            " [0.  0.  0.5]]\n",
            "---\n",
            "C^2 =\n",
            "[[1.   0.   0.  ]\n",
            " [0.   0.25 1.  ]\n",
            " [0.   0.   0.25]]\n",
            "---\n",
            "C^1000 =\n",
            "[[1.00000000e+000 0.00000000e+000 0.00000000e+000]\n",
            " [0.00000000e+000 4.66631809e-302 9.34196882e-299]\n",
            " [0.00000000e+000 0.00000000e+000 4.66631809e-302]]\n",
            "C^2000 =\n",
            "[[1. 0. 0.]\n",
            " [0. 0. 0.]\n",
            " [0. 0. 0.]]\n"
          ]
        }
      ]
    },
    {
      "cell_type": "code",
      "source": [
        "import numpy as np\n",
        "\n",
        "# Khởi tạo ma trận M\n",
        "M = np.array([\n",
        "    [0.8, 0.3],\n",
        "    [0.2, 0.7]\n",
        "])\n",
        "print(\"Ma trận M =\")\n",
        "print(M)\n",
        "print(\"---\")\n",
        "\n",
        "# Tính M2 = M.M\n",
        "MM = M.dot(M)\n",
        "print(\"M^2 =\")\n",
        "print(MM)\n",
        "print(\"---\")\n",
        "\n",
        "# Tính M3 = M.M2\n",
        "MM = M.dot(MM)\n",
        "print(\"M^3 =\")\n",
        "print(MM)\n",
        "print(\"---\")\n",
        "\n",
        "# Tính M^100\n",
        "for i in range(100):\n",
        "    MM = MM.dot(M)\n",
        "print(\"M^103 =\")\n",
        "print(MM)\n"
      ],
      "metadata": {
        "colab": {
          "base_uri": "https://localhost:8080/"
        },
        "id": "ylvCrh654nFx",
        "outputId": "e93d52f0-5a09-4e77-e155-ede56bf78641"
      },
      "execution_count": 23,
      "outputs": [
        {
          "output_type": "stream",
          "name": "stdout",
          "text": [
            "Ma trận M =\n",
            "[[0.8 0.3]\n",
            " [0.2 0.7]]\n",
            "---\n",
            "M^2 =\n",
            "[[0.7  0.45]\n",
            " [0.3  0.55]]\n",
            "---\n",
            "M^3 =\n",
            "[[0.65  0.525]\n",
            " [0.35  0.475]]\n",
            "---\n",
            "M^103 =\n",
            "[[0.6 0.6]\n",
            " [0.4 0.4]]\n"
          ]
        }
      ]
    },
    {
      "cell_type": "code",
      "source": [
        "import numpy as np\n",
        "from scipy import linalg\n",
        "\n",
        "# Khởi tạo ma trận M\n",
        "M = np.array([\n",
        "    [0.8, 0.3],\n",
        "    [0.2, 0.7]\n",
        "])\n",
        "print(\"Ma trận M =\")\n",
        "print(M)\n",
        "print(\"---\")\n",
        "\n",
        "# Phân tách LU\n",
        "P, L, U = linalg.lu(M)\n",
        "\n",
        "print(\"Ma trận P (Permutation matrix):\")\n",
        "print(P)\n",
        "print(\"---\")\n",
        "\n",
        "print(\"Ma trận L (Lower triangular matrix):\")\n",
        "print(L)\n",
        "print(\"---\")\n",
        "\n",
        "print(\"Ma trận U (Upper triangular matrix):\")\n",
        "print(U)\n",
        "print(\"---\")\n",
        "\n",
        "# Kiểm tra lại phép nhân L.dot(U)\n",
        "print(\"L.dot(U) =\")\n",
        "print(L.dot(U))\n",
        "print(\"---\")\n",
        "\n",
        "# Kiểm tra lại toàn bộ: P.dot(M) có bằng L.dot(U)?\n",
        "print(\"P.dot(M) =\")\n",
        "print(P.dot(M))\n",
        "\n"
      ],
      "metadata": {
        "colab": {
          "base_uri": "https://localhost:8080/"
        },
        "id": "89eS-Hvt43n3",
        "outputId": "d59ad532-5aeb-4e40-a24a-797cc794b7d2"
      },
      "execution_count": 22,
      "outputs": [
        {
          "output_type": "stream",
          "name": "stdout",
          "text": [
            "Ma trận M =\n",
            "[[0.8 0.3]\n",
            " [0.2 0.7]]\n",
            "---\n",
            "Ma trận P (Permutation matrix):\n",
            "[[1. 0.]\n",
            " [0. 1.]]\n",
            "---\n",
            "Ma trận L (Lower triangular matrix):\n",
            "[[1.   0.  ]\n",
            " [0.25 1.  ]]\n",
            "---\n",
            "Ma trận U (Upper triangular matrix):\n",
            "[[0.8   0.3  ]\n",
            " [0.    0.625]]\n",
            "---\n",
            "L.dot(U) =\n",
            "[[0.8 0.3]\n",
            " [0.2 0.7]]\n",
            "---\n",
            "P.dot(M) =\n",
            "[[0.8 0.3]\n",
            " [0.2 0.7]]\n"
          ]
        }
      ]
    },
    {
      "cell_type": "code",
      "source": [
        "import numpy as np\n",
        "\n",
        "# Ma trận A ban đầu\n",
        "A = np.array([\n",
        "    [0, 1, 0, 1],\n",
        "    [0, 0, 1, 0],\n",
        "    [1, 0, 0, 1],\n",
        "    [1, 1, 0, 0]\n",
        "])\n",
        "print(\"Ma trận A =\")\n",
        "print(A)\n",
        "print(\"---\")\n",
        "\n",
        "# Tính A^2\n",
        "temp = A.dot(A)\n",
        "print(\"A^2 =\")\n",
        "print(temp)\n",
        "print(\"---\")\n",
        "\n",
        "print(\"Nhận xét A^2: Số bước đi 2 bước giữa các đỉnh được liệt kê ở đây. Các phần tử khác 0 cho thấy có đường đi 2 bước giữa các đỉnh.\")\n",
        "print(\"---\")\n",
        "\n",
        "# Tính A^3\n",
        "temp = temp.dot(A)\n",
        "print(\"A^3 =\")\n",
        "print(temp)\n",
        "\n"
      ],
      "metadata": {
        "colab": {
          "base_uri": "https://localhost:8080/"
        },
        "id": "HA-Ax6Np5Fyh",
        "outputId": "5ac57e93-aabf-43ac-cd28-914815d658e7"
      },
      "execution_count": 21,
      "outputs": [
        {
          "output_type": "stream",
          "name": "stdout",
          "text": [
            "Ma trận A =\n",
            "[[0 1 0 1]\n",
            " [0 0 1 0]\n",
            " [1 0 0 1]\n",
            " [1 1 0 0]]\n",
            "---\n",
            "A^2 =\n",
            "[[1 1 1 0]\n",
            " [1 0 0 1]\n",
            " [1 2 0 1]\n",
            " [0 1 1 1]]\n",
            "---\n",
            "Nhận xét A^2: Số bước đi 2 bước giữa các đỉnh được liệt kê ở đây. Các phần tử khác 0 cho thấy có đường đi 2 bước giữa các đỉnh.\n",
            "---\n",
            "A^3 =\n",
            "[[1 1 1 2]\n",
            " [1 2 0 1]\n",
            " [1 2 2 1]\n",
            " [2 1 1 1]]\n"
          ]
        }
      ]
    },
    {
      "cell_type": "code",
      "source": [
        "import numpy as np\n",
        "\n",
        "# Ma trận A ban đầu\n",
        "A = np.array([\n",
        "    [0, 1, 0, 1],\n",
        "    [0, 0, 1, 0],\n",
        "    [1, 0, 0, 1],\n",
        "    [1, 1, 0, 0]\n",
        "])\n",
        "print(\"Ma trận A:\")\n",
        "print(A)\n",
        "print(\"---\")\n",
        "\n",
        "# Tính tổng các lũy thừa từ 1 đến k=3\n",
        "sumA = A.copy()     # ban đầu là A\n",
        "temp = A.dot(A)     # tính A^2\n",
        "\n",
        "k = 3\n",
        "sumA = sumA + temp  # cộng thêm A^2\n",
        "\n",
        "for i in range(1, k-1):  # i=1 => chỉ tính thêm A^3\n",
        "    temp = temp.dot(A)   # tính A^3\n",
        "    sumA = sumA + temp   # cộng vào tổng\n",
        "\n",
        "print(\"Ma trận temp (A^3):\")\n",
        "print(temp)\n",
        "print(\"---\")\n",
        "\n",
        "print(\"Tổng các lũy thừa từ A đến A^3 (sumA):\")\n",
        "print(sumA)\n",
        "\n"
      ],
      "metadata": {
        "colab": {
          "base_uri": "https://localhost:8080/"
        },
        "id": "TYggWT2u5UkY",
        "outputId": "c834ab53-e93b-4c27-eea7-bfef9f21a483"
      },
      "execution_count": 20,
      "outputs": [
        {
          "output_type": "stream",
          "name": "stdout",
          "text": [
            "Ma trận A:\n",
            "[[0 1 0 1]\n",
            " [0 0 1 0]\n",
            " [1 0 0 1]\n",
            " [1 1 0 0]]\n",
            "---\n",
            "Ma trận temp (A^3):\n",
            "[[1 1 1 2]\n",
            " [1 2 0 1]\n",
            " [1 2 2 1]\n",
            " [2 1 1 1]]\n",
            "---\n",
            "Tổng các lũy thừa từ A đến A^3 (sumA):\n",
            "[[2 3 2 3]\n",
            " [2 2 1 2]\n",
            " [3 4 2 3]\n",
            " [3 3 2 2]]\n"
          ]
        }
      ]
    },
    {
      "cell_type": "code",
      "source": [],
      "metadata": {
        "id": "nUENLdeo51Cr"
      },
      "execution_count": null,
      "outputs": []
    }
  ]
}