{
  "nbformat": 4,
  "nbformat_minor": 0,
  "metadata": {
    "colab": {
      "provenance": []
    },
    "kernelspec": {
      "name": "python3",
      "display_name": "Python 3"
    },
    "language_info": {
      "name": "python"
    }
  },
  "cells": [
    {
      "cell_type": "code",
      "execution_count": 1,
      "metadata": {
        "colab": {
          "base_uri": "https://localhost:8080/"
        },
        "id": "FhkP6z2p3YKQ",
        "outputId": "76f1cb9a-0f10-4a66-e028-0081ff1c5657"
      },
      "outputs": [
        {
          "output_type": "stream",
          "name": "stdout",
          "text": [
            "Lựa chọn a: 3.7416573867739413\n",
            "Lựa chọn b: 3.7416573867739413\n",
            "Lựa chọn c: 3.7416573867739413\n",
            "Lựa chọn d: 3.7416573867739413\n"
          ]
        }
      ],
      "source": [
        "#bài 1\n",
        "import numpy as np\n",
        "import math\n",
        "a = np.array([1, 2, 3])\n",
        "mag_a = np.sqrt(a.dot(a))\n",
        "print(\"Lựa chọn a:\", mag_a)\n",
        "mag_b = np.sqrt(a @ a)\n",
        "print(\"Lựa chọn b:\", mag_b)\n",
        "mag_c = np.sqrt(np.inner(a, a))\n",
        "print(\"Lựa chọn c:\", mag_c)\n",
        "mag_d = lambda x: math.sqrt(sum(i**2 for i in x))\n",
        "print(\"Lựa chọn d:\", mag_d(a))"
      ]
    },
    {
      "cell_type": "code",
      "source": [
        "#bài 2\n",
        "import numpy as np\n",
        "u = np.array([1, 2])\n",
        "v = np.array([4, 6])\n",
        "distance = np.sqrt(np.sum((u - v) ** 2))\n",
        "print(\"Khoảng cách giữa u và v:\", distance)\n",
        "u = np.array([1, 0])\n",
        "v = np.array([1, 1])\n",
        "dot_product = np.dot(u, v)\n",
        "norm_u = np.sqrt(np.sum(u ** 2))\n",
        "norm_v = np.sqrt(np.sum(v ** 2))\n",
        "cos_theta = dot_product / (norm_u * norm_v)\n",
        "theta = np.arccos(cos_theta) * 180 / np.pi\n",
        "print(\"Góc giữa u và v (độ):\", theta)\n",
        "u = np.array([2, 2])\n",
        "v = np.array([1, 0])\n",
        "dot_uv = np.dot(u, v)\n",
        "dot_vv = np.dot(v, v)\n",
        "projection = (dot_uv / dot_vv) * v\n",
        "print(\"Phép chiếu trực giao của u lên v:\", projection)\n"
      ],
      "metadata": {
        "colab": {
          "base_uri": "https://localhost:8080/"
        },
        "id": "U0yAu9wj4cfe",
        "outputId": "913ef702-6097-415e-da55-fdaef22c6863"
      },
      "execution_count": 2,
      "outputs": [
        {
          "output_type": "stream",
          "name": "stdout",
          "text": [
            "Khoảng cách giữa u và v: 5.0\n",
            "Góc giữa u và v (độ): 45.00000000000001\n",
            "Phép chiếu trực giao của u lên v: [2. 0.]\n"
          ]
        }
      ]
    },
    {
      "cell_type": "code",
      "source": [
        "#1.2.Tích vô hướng, trực giao và ứng dụng\n",
        "import numpy as np\n",
        "from scipy import linalg\n",
        "import math\n",
        "# Định nghĩa vector a và b\n",
        "a = np.array([1, 2, 3])\n",
        "b = np.array([4, 5, 6])\n",
        "# Tích vô hướng với np.inner và np.dot\n",
        "tich_inner = np.inner(a, b)\n",
        "print(\"Tích vô hướng (np.inner):\", tich_inner)\n",
        "tich_dot = np.dot(a, b)\n",
        "print(\"Tích vô hướng (np.dot):\", tich_dot)\n",
        "# Chuẩn vector a = [1, 2, -3]\n",
        "a = np.array([1, 2, -3])\n",
        "# Chuẩn 2\n",
        "norm_2_np = np.linalg.norm(a, 2)\n",
        "print(\"Chuẩn 2 (np.linalg.norm):\", norm_2_np)\n",
        "norm_2_scipy = linalg.norm(a)\n",
        "print(\"Chuẩn 2 (scipy.linalg.norm):\", norm_2_scipy)\n",
        "# Chuẩn 1\n",
        "norm_1_np = np.linalg.norm(a, 1)\n",
        "print(\"Chuẩn 1 (np.linalg.norm):\", norm_1_np)\n",
        "norm_1_scipy = linalg.norm(a, 1)\n",
        "print(\"Chuẩn 1 (scipy.linalg.norm):\", norm_1_scipy)\n",
        "# Hàm tự định nghĩa để tính chuẩn bậc k\n",
        "def chuan(vector, k):\n",
        "    return sum(abs(x) ** k for x in vector) ** (1/k) if k > 0 else 0\n",
        "# Kiểm tra các chuẩn với hàm chuan\n",
        "print(\"Chuẩn 1 (chuan):\", chuan(a, 1))\n",
        "print(\"Chuẩn 2 (chuan):\", chuan(a, 2))\n",
        "print(\"Chuẩn 3 (chuan):\", chuan(a, 3))\n",
        "print(\"Chuẩn 1000 (chuan):\", chuan(a, 1000))\n",
        "# So sánh với np.linalg.norm\n",
        "print(\"Chuẩn 1 (np.linalg.norm):\", np.linalg.norm(a, 1))\n",
        "print(\"Chuẩn 2 (np.linalg.norm):\", np.linalg.norm(a, 2))\n",
        "print(\"Chuẩn 3 (np.linalg.norm):\", np.linalg.norm(a, 3))\n",
        "print(\"Chuẩn 1000 (np.linalg.norm):\", np.linalg.norm(a, 1000))\n",
        "# So sánh với scipy.linalg.norm\n",
        "print(\"Chuẩn 100 (scipy.linalg.norm):\", linalg.norm(a, 100))\n",
        "print(\"Chuẩn 1000 (scipy.linalg.norm):\", linalg.norm(a, 1000))\n",
        "# Lỗi khi k quá lớn (thử nghiệm, tùy môi trường)\n",
        "try:\n",
        "    print(\"Chuẩn 10000 (np.linalg.norm):\", np.linalg.norm(a, 10000))\n",
        "except Exception as e:\n",
        "    print(\"Lỗi:\", str(e))\n",
        "# Khoảng cách giữa a và b\n",
        "distance = np.linalg.norm(a - b)\n",
        "print(\"Khoảng cách giữa a và b:\", distance)\n",
        "# Góc giữa a và b\n",
        "dot_product = np.dot(a, b)\n",
        "norm_a = np.linalg.norm(a)\n",
        "norm_b = np.linalg.norm(b)\n",
        "cos_theta = dot_product / (norm_a * norm_b)\n",
        "theta = np.arccos(cos_theta) * 180 / np.pi\n",
        "print(\"Góc giữa a và b (độ):\", theta)\n",
        "# Phép chiếu trực giao của a lên b\n",
        "dot_ab = np.dot(a, b)\n",
        "dot_bb = np.dot(b, b)\n",
        "projection = (dot_ab / dot_bb) * b\n",
        "print(\"Phép chiếu trực giao của a lên b:\", projection)"
      ],
      "metadata": {
        "colab": {
          "base_uri": "https://localhost:8080/"
        },
        "id": "IVLe2Jq15bBZ",
        "outputId": "67b1007c-152a-40dd-ee3c-5bebb6b16115"
      },
      "execution_count": 3,
      "outputs": [
        {
          "output_type": "stream",
          "name": "stdout",
          "text": [
            "Tích vô hướng (np.inner): 32\n",
            "Tích vô hướng (np.dot): 32\n",
            "Chuẩn 2 (np.linalg.norm): 3.7416573867739413\n",
            "Chuẩn 2 (scipy.linalg.norm): 3.7416573867739413\n",
            "Chuẩn 1 (np.linalg.norm): 6.0\n",
            "Chuẩn 1 (scipy.linalg.norm): 6.0\n",
            "Chuẩn 1 (chuan): 6.0\n",
            "Chuẩn 2 (chuan): 3.7416573867739413\n",
            "Chuẩn 3 (chuan): 3.3019272488946263\n",
            "Chuẩn 1000 (chuan): 1.0442214818467515\n",
            "Chuẩn 1 (np.linalg.norm): 6.0\n",
            "Chuẩn 2 (np.linalg.norm): 3.7416573867739413\n",
            "Chuẩn 3 (np.linalg.norm): 3.3019272488946263\n",
            "Chuẩn 1000 (np.linalg.norm): inf\n",
            "Chuẩn 100 (scipy.linalg.norm): 3.0\n",
            "Chuẩn 1000 (scipy.linalg.norm): inf\n",
            "Chuẩn 10000 (np.linalg.norm): inf\n",
            "Khoảng cách giữa a và b: 9.9498743710662\n",
            "Góc giữa a và b (độ): 96.99767003015255\n",
            "Phép chiếu trực giao của a lên b: [-0.20779221 -0.25974026 -0.31168831]\n"
          ]
        },
        {
          "output_type": "stream",
          "name": "stderr",
          "text": [
            "/usr/local/lib/python3.11/dist-packages/numpy/linalg/_linalg.py:2780: RuntimeWarning: overflow encountered in power\n",
            "  absx **= ord\n"
          ]
        }
      ]
    },
    {
      "cell_type": "code",
      "source": [
        "#Tổ hợp tuyến tính\n",
        "import numpy as np\n",
        "m = 10\n",
        "v1 = np.array([5, -4, 3])\n",
        "v2 = np.array([4, 3, -2])\n",
        "v3 = np.array([-4, -3, -1])\n",
        "v4 = np.array([-9, 8, 6])\n",
        "mi = np.array([2, 5, 2, 1])\n",
        "M = np.array([v1, v2, v3, v4])\n",
        "MT = M.transpose()\n",
        "print(MT)\n",
        "v = (1.0 / m) * MT.dot(mi)\n",
        "print(v)"
      ],
      "metadata": {
        "colab": {
          "base_uri": "https://localhost:8080/"
        },
        "id": "FSGPfOIZ6du5",
        "outputId": "2a247e64-7d54-41c2-ceb3-7e5e2fa94c90"
      },
      "execution_count": 4,
      "outputs": [
        {
          "output_type": "stream",
          "name": "stdout",
          "text": [
            "[[ 5  4 -4 -9]\n",
            " [-4  3 -3  8]\n",
            " [ 3 -2 -1  6]]\n",
            "[1.3 0.9 0. ]\n"
          ]
        }
      ]
    },
    {
      "cell_type": "code",
      "source": [
        "#Tri riêng, vector riêng của ma trận và ứng dụng\n",
        "import numpy as np\n",
        "from numpy.linalg import matrix_power\n",
        "# Khai báo ma trận A\n",
        "A = np.array([[0.998, 0.136],\n",
        "              [0.002, 0.864]])\n",
        "# Khai báo vector v0\n",
        "v0 = np.array([0.95, 0.05])\n",
        "# Tính vector A^100 (sử dụng matrix_power)\n",
        "A100 = matrix_power(A, 100)\n",
        "# Tính vector v100 = A^100 * v0\n",
        "v100 = A100.dot(v0)\n",
        "print(\"Ma trận A^100:\")\n",
        "print(A100)\n",
        "print(\"Vector trạng thái sau 100 tuần (v100):\")\n",
        "print(v100)"
      ],
      "metadata": {
        "colab": {
          "base_uri": "https://localhost:8080/"
        },
        "id": "DRKykA1b6uFf",
        "outputId": "3541d902-b5d4-4f25-be49-717272de3808"
      },
      "execution_count": 5,
      "outputs": [
        {
          "output_type": "stream",
          "name": "stdout",
          "text": [
            "Ma trận A^100:\n",
            "[[0.98550725 0.9855069 ]\n",
            " [0.01449275 0.0144931 ]]\n",
            "Vector trạng thái sau 100 tuần (v100):\n",
            "[0.98550723 0.01449277]\n"
          ]
        }
      ]
    },
    {
      "cell_type": "code",
      "source": [
        "#3.2.Trị riêng và vector riêng của ma trận\n",
        "import numpy as np\n",
        "\n",
        "# Khai báo ma trận A\n",
        "A = np.array([[1, 6],\n",
        "              [5, 2]])\n",
        "# Khai báo vector u (giả sử u là vector cột [6, 0] hoặc [0, 6], ta thử [6, 0] để kiểm tra)\n",
        "u = np.array([6, 0])\n",
        "# Chứng minh Au = -4u\n",
        "Au = A.dot(u)\n",
        "lambda_u = -4 * u\n",
        "print(\"A * u =\", Au)\n",
        "print(\"-4 * u =\", lambda_u)\n",
        "print(\"Kiểm tra Au = -4u:\", np.allclose(Au, lambda_u))  # Kiểm tra xem Au có gần bằng -4u không"
      ],
      "metadata": {
        "colab": {
          "base_uri": "https://localhost:8080/"
        },
        "id": "snxaRzkG8Mkh",
        "outputId": "a4d788f1-eba8-42ff-934b-7626f3de419f"
      },
      "execution_count": 6,
      "outputs": [
        {
          "output_type": "stream",
          "name": "stdout",
          "text": [
            "A * u = [ 6 30]\n",
            "-4 * u = [-24   0]\n",
            "Kiểm tra Au = -4u: False\n"
          ]
        }
      ]
    },
    {
      "cell_type": "code",
      "source": [
        "#3.3.Ứng dụng của trị riêng và vector riêng\n",
        "import numpy as np\n",
        "from numpy import linalg as LA\n",
        "\n",
        "# Khai báo ma trận A, D, P\n",
        "A = np.array([[2, 3],\n",
        "              [3, -6]])\n",
        "D = np.array([[-7, 0],\n",
        "              [0, 3]])\n",
        "P = np.array([[-1.0/3, 3],\n",
        "              [1, 1]])\n",
        "# Tính ma trận nghịch đảo P^(-1)\n",
        "P1 = LA.inv(P)\n",
        "print(\"P^(-1):\")\n",
        "print(P1)\n",
        "# Kiểm tra A * P = P * D\n",
        "AP = A.dot(P)\n",
        "PD = P.dot(D)\n",
        "print(\"A * P:\")\n",
        "print(AP)\n",
        "print(\"P * D:\")\n",
        "print(PD)\n",
        "print(\"Kiểm tra A * P ≈ P * D:\", np.allclose(AP, PD))\n",
        "# Tính A^1000 sử dụng matrix_power (đã cho kết quả)\n",
        "A1000_direct = LA.matrix_power(A, 1000)\n",
        "print(\"A^1000 (sử dụng matrix_power):\")\n",
        "print(A1000_direct)\n",
        "# Thử tính D^1000 an toàn hơn bằng cách sử dụng log hoặc matrix_power trên D\n",
        "try:\n",
        "    D1000 = np.diag([(-7)**1000, 3**1000])\n",
        "    A1000_chinh = P @ D1000 @ P1\n",
        "    print(\"A^1000 (phương pháp chéo hóa):\")\n",
        "    print(A1000_chinh)\n",
        "except OverflowError:\n",
        "    print(\"Lỗi tràn số khi tính D^1000 trực tiếp. Sử dụng matrix_power thay thế.\")\n",
        "# Kiểm tra lại vector riêng và giá trị riêng để xác nhận\n",
        "eigenvalues, eigenvectors = LA.eig(A)\n",
        "P_correct = eigenvectors\n",
        "D_correct = np.diag(eigenvalues)\n",
        "print(\"Giá trị riêng (eigenvalues):\", eigenvalues)\n",
        "print(\"Vector riêng (eigenvectors):\")\n",
        "print(P_correct)"
      ],
      "metadata": {
        "colab": {
          "base_uri": "https://localhost:8080/"
        },
        "id": "uM1CJq5a8jHj",
        "outputId": "f3b2fd9f-4fd4-4355-f783-0a73f7e24e16"
      },
      "execution_count": 12,
      "outputs": [
        {
          "output_type": "stream",
          "name": "stdout",
          "text": [
            "P^(-1):\n",
            "[[-0.3  0.9]\n",
            " [ 0.3  0.1]]\n",
            "A * P:\n",
            "[[ 2.33333333  9.        ]\n",
            " [-7.          3.        ]]\n",
            "P * D:\n",
            "[[ 2.33333333  9.        ]\n",
            " [-7.          3.        ]]\n",
            "Kiểm tra A * P ≈ P * D: True\n",
            "A^1000 (sử dụng matrix_power):\n",
            "[[-7877686877730399439  5349495576147410896]\n",
            " [ 5349495576147410896  8601565042059090865]]\n",
            "Lỗi tràn số khi tính D^1000 trực tiếp. Sử dụng matrix_power thay thế.\n",
            "Giá trị riêng (eigenvalues): [ 3. -7.]\n",
            "Vector riêng (eigenvectors):\n",
            "[[ 0.9486833  -0.31622777]\n",
            " [ 0.31622777  0.9486833 ]]\n"
          ]
        }
      ]
    }
  ]
}