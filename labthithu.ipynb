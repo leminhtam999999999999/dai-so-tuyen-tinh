{
  "nbformat": 4,
  "nbformat_minor": 0,
  "metadata": {
    "colab": {
      "provenance": []
    },
    "kernelspec": {
      "name": "python3",
      "display_name": "Python 3"
    },
    "language_info": {
      "name": "python"
    }
  },
  "cells": [
    {
      "cell_type": "code",
      "execution_count": 1,
      "metadata": {
        "colab": {
          "base_uri": "https://localhost:8080/"
        },
        "id": "VpbnHZ2XDsVJ",
        "outputId": "1b63a807-544f-4a5b-acc6-ca75a525c8ed"
      },
      "outputs": [
        {
          "output_type": "stream",
          "name": "stdout",
          "text": [
            "a) Tính tổng A + B và tích số 3A - 2B:\n",
            "A + B = [-1  3  1  5]\n",
            "3A - 2B = [ -8 -11  13 -10]\n",
            "\n",
            "b) Tích vô hướng A · B = -12\n",
            "Góc giữa hai vector (độ) = 118.22051205340371\n",
            "\n",
            "c) Tích ma trận C^T * C:\n",
            "[[ 5  0 -1]\n",
            " [ 0 14 10]\n",
            " [-1 10 17]]\n"
          ]
        }
      ],
      "source": [
        "#Câu 1\n",
        "import numpy as np\n",
        "A = np.array([-2, -1, 3, 0])\n",
        "B = np.array([1, 4, -2, 5])\n",
        "C = np.array([[1, 2, -1], [0, 3, 4], [2, -1, 0]])\n",
        "print(\"a) Tính tổng A + B và tích số 3A - 2B:\")\n",
        "print(\"A + B =\", A + B)\n",
        "print(\"3A - 2B =\", 3*A - 2*B)\n",
        "dot_product = np.dot(A, B)\n",
        "magnitude_A = np.linalg.norm(A)\n",
        "magnitude_B = np.linalg.norm(B)\n",
        "cos_theta = dot_product / (magnitude_A * magnitude_B)\n",
        "theta = np.arccos(np.clip(cos_theta, -1, 1)) * 180 / np.pi\n",
        "print(\"\\nb) Tích vô hướng A · B =\", dot_product)\n",
        "print(\"Góc giữa hai vector (độ) =\", theta)\n",
        "C_transpose = C.T\n",
        "C_T_C = np.dot(C_transpose, C)\n",
        "print(\"\\nc) Tích ma trận C^T * C:\")\n",
        "print(C_T_C)"
      ]
    },
    {
      "cell_type": "code",
      "source": [
        "#Câu 2\n",
        "import numpy as np\n",
        "M = np.array([[1, 2, 3, 0], [4, 5, 6, 1], [7, 8, 9, 2], [0, 1, 0, 0]])\n",
        "N = np.array([[0, 1, 2, 3], [4, 5, 6, 7], [8, 9, 10, 11], [12, 13, 14, 15]])\n",
        "print(\"a) Tích ma trận M × N:\")\n",
        "M_N = np.dot(M, N)\n",
        "print(M_N)\n",
        "det_M = np.linalg.det(M)\n",
        "print(\"\\nb) Định thức của ma trận M:\", det_M)\n",
        "rank_N = np.linalg.matrix_rank(N)\n",
        "print(\"\\nc) Hạng của ma trận N:\", rank_N)"
      ],
      "metadata": {
        "colab": {
          "base_uri": "https://localhost:8080/"
        },
        "id": "WiFpvT3rEeE7",
        "outputId": "d94f7aaa-2b88-4a20-c235-3a59a9ccb45e"
      },
      "execution_count": 2,
      "outputs": [
        {
          "output_type": "stream",
          "name": "stdout",
          "text": [
            "a) Tích ma trận M × N:\n",
            "[[ 32  38  44  50]\n",
            " [ 80  96 112 128]\n",
            " [128 154 180 206]\n",
            " [  4   5   6   7]]\n",
            "\n",
            "b) Định thức của ma trận M: 1.3322676295501906e-15\n",
            "\n",
            "c) Hạng của ma trận N: 2\n"
          ]
        }
      ]
    },
    {
      "cell_type": "code",
      "source": [
        "#Câu 3\n",
        "import numpy as np\n",
        "P = np.array([[2, 1, 0, 1], [0, 3, 1, -1], [1, 0, 4, 2], [0, 1, 0, 3]])\n",
        "P_inv = np.linalg.inv(P)\n",
        "print(\"a) Ma trận nghịch đảo của P:\")\n",
        "print(P_inv)\n",
        "b = np.array([4, 7, 9, 5])\n",
        "solution = np.linalg.solve(P, b)\n",
        "print(\"\\nb) Giải hệ phương trình: [x, y, z, w] =\", solution)\n",
        "check = np.dot(P, solution)\n",
        "print(\"\\nc) Kiểm tra: P * nghiệm =\", check)"
      ],
      "metadata": {
        "colab": {
          "base_uri": "https://localhost:8080/"
        },
        "id": "sA1NOFyHFHsP",
        "outputId": "7dbffe86-edc9-49fb-b071-bc3d1dae1644"
      },
      "execution_count": 3,
      "outputs": [
        {
          "output_type": "stream",
          "name": "stdout",
          "text": [
            "a) Ma trận nghịch đảo của P:\n",
            "[[ 0.48837209 -0.09302326  0.02325581 -0.20930233]\n",
            " [ 0.03488372  0.27906977 -0.06976744  0.12790698]\n",
            " [-0.11627907  0.06976744  0.23255814 -0.09302326]\n",
            " [-0.01162791 -0.09302326  0.02325581  0.29069767]]\n",
            "\n",
            "b) Giải hệ phương trình: [x, y, z, w] = [0.46511628 2.10465116 1.65116279 0.96511628]\n",
            "\n",
            "c) Kiểm tra: P * nghiệm = [4. 7. 9. 5.]\n"
          ]
        }
      ]
    },
    {
      "cell_type": "code",
      "source": [
        "#Câu 4\n",
        "import numpy as np\n",
        "Q = np.array([[1, -1, 0], [3, 1, -2], [0, 1, 2]])\n",
        "eigenvalues = np.linalg.eigvals(Q)\n",
        "print(\"a) Giá trị riêng của Q:\", eigenvalues)\n",
        "eigenvalues, eigenvectors = np.linalg.eig(Q)\n",
        "print(\"\\nb) Vector riêng tương ứng:\")\n",
        "for i in range(len(eigenvalues)):\n",
        "    print(f\"Giá trị riêng {eigenvalues[i]}: {eigenvectors[:, i]}\")\n",
        "normalized_eigenvectors = eigenvectors / np.linalg.norm(eigenvectors, axis=0)\n",
        "print(\"\\nc) Vector riêng chuẩn hóa:\")\n",
        "for i in range(len(eigenvalues)):\n",
        "    print(f\"Vector riêng {eigenvalues[i]} chuẩn hóa: {normalized_eigenvectors[:, i]}\")"
      ],
      "metadata": {
        "colab": {
          "base_uri": "https://localhost:8080/"
        },
        "id": "vGj8NEQvFb9R",
        "outputId": "1f59118d-7745-4d14-9ef7-2c75953e95d9"
      },
      "execution_count": 4,
      "outputs": [
        {
          "output_type": "stream",
          "name": "stdout",
          "text": [
            "a) Giá trị riêng của Q: [1.18531916+2.175406j 1.18531916-2.175406j 1.62936168+0.j      ]\n",
            "\n",
            "b) Vector riêng tương ứng:\n",
            "Giá trị riêng (1.1853191597919253+2.175405997365573j): [ 0.03291514-0.38638094j -0.84663523+0.j          0.12782157+0.34131626j]\n",
            "Giá trị riêng (1.1853191597919253-2.175405997365573j): [ 0.03291514+0.38638094j -0.84663523-0.j          0.12782157-0.34131626j]\n",
            "Giá trị riêng (1.6293616804161477+0j): [ 0.48339855+0.j -0.30423252+0.j  0.82083397+0.j]\n",
            "\n",
            "c) Vector riêng chuẩn hóa:\n",
            "Vector riêng (1.1853191597919253+2.175405997365573j) chuẩn hóa: [ 0.03291514-0.38638094j -0.84663523+0.j          0.12782157+0.34131626j]\n",
            "Vector riêng (1.1853191597919253-2.175405997365573j) chuẩn hóa: [ 0.03291514+0.38638094j -0.84663523+0.j          0.12782157-0.34131626j]\n",
            "Vector riêng (1.6293616804161477+0j) chuẩn hóa: [ 0.48339855+0.j -0.30423252+0.j  0.82083397+0.j]\n"
          ]
        }
      ]
    },
    {
      "cell_type": "code",
      "source": [
        "#Câu 5\n",
        "import numpy as np\n",
        "R = np.array([[1, -2, 3], [0, 1, 4], [-1, 1, -1]])\n",
        "b = np.array([10, 8, 7])\n",
        "z = np.linalg.solve(R, b)\n",
        "print(\"a) Giải hệ phương trình Rz = b: z =\", z)\n",
        "det_R = np.linalg.det(R)\n",
        "is_invertible = det_R != 0\n",
        "print(\"\\nb) Ma trận R có khả nghịch không? (True/False):\", is_invertible)\n",
        "if is_invertible:\n",
        "    print(\"Nghịch đảo của ma trận R:\")\n",
        "    R_inv = np.linalg.inv(R)\n",
        "    print(R_inv)\n",
        "frobenius_norm = np.linalg.norm(R, 'fro')\n",
        "print(\"\\nc) Chuỗi Frobenius của ma trận R:\", frobenius_norm)"
      ],
      "metadata": {
        "colab": {
          "base_uri": "https://localhost:8080/"
        },
        "id": "IBki71BlGrr5",
        "outputId": "0fc05cea-84a5-4948-af09-2b4497b0e9dd"
      },
      "execution_count": 5,
      "outputs": [
        {
          "output_type": "stream",
          "name": "stdout",
          "text": [
            "a) Giải hệ phương trình Rz = b: z = [-19.83333333  -8.66666667   4.16666667]\n",
            "\n",
            "b) Ma trận R có khả nghịch không? (True/False): True\n",
            "Nghịch đảo của ma trận R:\n",
            "[[-0.83333333  0.16666667 -1.83333333]\n",
            " [-0.66666667  0.33333333 -0.66666667]\n",
            " [ 0.16666667  0.16666667  0.16666667]]\n",
            "\n",
            "c) Chuỗi Frobenius của ma trận R: 5.830951894845301\n"
          ]
        }
      ]
    }
  ]
}