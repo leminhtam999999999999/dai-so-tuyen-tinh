{
  "nbformat": 4,
  "nbformat_minor": 0,
  "metadata": {
    "colab": {
      "provenance": []
    },
    "kernelspec": {
      "name": "python3",
      "display_name": "Python 3"
    },
    "language_info": {
      "name": "python"
    }
  },
  "cells": [
    {
      "cell_type": "code",
      "execution_count": 1,
      "metadata": {
        "colab": {
          "base_uri": "https://localhost:8080/"
        },
        "id": "i9pvSnR_4uIP",
        "outputId": "bdcb9438-ea37-4f7b-c003-70401fc0369c"
      },
      "outputs": [
        {
          "output_type": "stream",
          "name": "stdout",
          "text": [
            "Ma trận A:\n",
            "[[1 2 3]\n",
            " [4 5 6]\n",
            " [7 8 9]]\n",
            "\n",
            "Ma trận hệ số kép (Cofactor matrix):\n",
            "[[ -3.   6.  -3.]\n",
            " [  6. -12.   6.]\n",
            " [ -3.   6.  -3.]]\n",
            "\n",
            "Ma trận liên hợp (Adjoint matrix):\n",
            "[[ -3.   6.  -3.]\n",
            " [  6. -12.   6.]\n",
            " [ -3.   6.  -3.]]\n"
          ]
        }
      ],
      "source": [
        "#Bài 1\n",
        "import numpy as np\n",
        "\n",
        "def get_minor_matrix(matrix, i, j):\n",
        "    \"\"\"Lấy ma trận con bằng cách xóa hàng i và cột j\"\"\"\n",
        "    return np.delete(np.delete(matrix, i, axis=0), j, axis=1)\n",
        "\n",
        "def cofactor_matrix(matrix):\n",
        "    \"\"\"Tính ma trận hệ số kép (cofactor matrix)\"\"\"\n",
        "    n = matrix.shape[0]\n",
        "    cofactor = np.zeros((n, n))\n",
        "\n",
        "    for i in range(n):\n",
        "        for j in range(n):\n",
        "            minor = get_minor_matrix(matrix, i, j)\n",
        "            cofactor[i, j] = ((-1) ** (i + j)) * np.linalg.det(minor)\n",
        "\n",
        "    return cofactor\n",
        "\n",
        "def adjoint_matrix(matrix):\n",
        "    \"\"\"Tính ma trận liên hợp (adjoint matrix)\"\"\"\n",
        "    return np.transpose(cofactor_matrix(matrix))\n",
        "\n",
        "# Hàm kiểm tra và ví dụ sử dụng\n",
        "def main():\n",
        "    # Ma trận ví dụ 3x3\n",
        "    A = np.array([[1, 2, 3],\n",
        "                  [4, 5, 6],\n",
        "                  [7, 8, 9]])\n",
        "\n",
        "    print(\"Ma trận A:\")\n",
        "    print(A)\n",
        "\n",
        "    # Tính ma trận hệ số kép\n",
        "    cofactor = cofactor_matrix(A)\n",
        "    print(\"\\nMa trận hệ số kép (Cofactor matrix):\")\n",
        "    print(cofactor)\n",
        "\n",
        "    # Tính ma trận liên hợp\n",
        "    adj = adjoint_matrix(A)\n",
        "    print(\"\\nMa trận liên hợp (Adjoint matrix):\")\n",
        "    print(adj)\n",
        "\n",
        "if __name__ == \"__main__\":\n",
        "    main()"
      ]
    },
    {
      "cell_type": "code",
      "source": [
        "!pip install sympy\n",
        "from sympy import symbols, solve, Eq\n",
        "\n",
        "x, y, a, b, c = symbols('x y a b c')\n",
        "\n",
        "def find_circle_equation(x1, y1, x2, y2, x3, y3):\n",
        "    # Tạo hệ phương trình\n",
        "    eq1 = Eq(x1**2 + y1**2 + a*x1 + b*y1 + c, 0)\n",
        "    eq2 = Eq(x2**2 + y2**2 + a*x2 + b*y2 + c, 0)\n",
        "    eq3 = Eq(x3**2 + y3**2 + a*x3 + b*y3 + c, 0)\n",
        "\n",
        "    # Giải hệ phương trình\n",
        "    solution = solve((eq1, eq2, eq3), (a, b, c))\n",
        "\n",
        "    return solution\n",
        "\n",
        "x1, y1 = 0, 0\n",
        "x2, y2 = 1, 1\n",
        "x3, y3 = 2, 0\n",
        "\n",
        "# Tìm phương trình\n",
        "result = find_circle_equation(x1, y1, x2, y2, x3, y3)\n",
        "\n",
        "\n",
        "if result and isinstance(result, dict):\n",
        "    a, b, c = result[a], result[b], result[c]\n",
        "    print(f\"Phương trình đường tròn: x^2 + y^2 + {a}*x + {b}*y + {c} = 0\")\n",
        "elif result and len(result) > 0:\n",
        "    a, b, c = result[0][a], result[0][b], result[0][c]\n",
        "    print(f\"Phương trình đường tròn: x^2 + y^2 + {a}*x + {b}*y + {c} = 0\")\n",
        "else:\n",
        "    print(\"Không tìm thấy đường tròn hợp lệ qua 3 điểm (có thể 3 điểm thẳng hàng).\")\n"
      ],
      "metadata": {
        "colab": {
          "base_uri": "https://localhost:8080/"
        },
        "id": "4t3U_zV-5KZZ",
        "outputId": "40fa7ab0-6455-44f0-8ea5-06f2c3874428"
      },
      "execution_count": 4,
      "outputs": [
        {
          "output_type": "stream",
          "name": "stdout",
          "text": [
            "Requirement already satisfied: sympy in /usr/local/lib/python3.11/dist-packages (1.13.1)\n",
            "Requirement already satisfied: mpmath<1.4,>=1.1.0 in /usr/local/lib/python3.11/dist-packages (from sympy) (1.3.0)\n",
            "Phương trình đường tròn: x^2 + y^2 + -2*x + 0*y + 0 = 0\n"
          ]
        }
      ]
    },
    {
      "cell_type": "code",
      "source": [
        "#Định thức và các tính chất\n",
        "import numpy as np\n",
        "\n",
        "def sgn_by_def(sigma):\n",
        "    \"\"\"Tính dấu của hoán vị sigma dựa trên số hoán vị nghịch.\"\"\"\n",
        "    n = len(sigma)\n",
        "    inversions = 0\n",
        "    for i in range(n):\n",
        "        for j in range(i + 1, n):\n",
        "            if sigma[i] > sigma[j]:\n",
        "                inversions += 1\n",
        "    return 1 if inversions % 2 == 0 else -1\n",
        "\n",
        "# Ví dụ 1\n",
        "n = 4\n",
        "X = np.array(range(1, n + 1))\n",
        "sigma = np.array([4, 3, 2, 1])\n",
        "print(\"sgn_by_def([4, 3, 2, 1]):\", sgn_by_def(sigma))\n",
        "\n",
        "# Ví dụ 2\n",
        "sigma = np.array([1, 2, 3, 4])\n",
        "print(\"sgn_by_def([1, 2, 3, 4]):\", sgn_by_def(sigma))\n",
        "\n",
        "# Ví dụ 3\n",
        "sigma = np.array([4, 3, 2, 1])\n",
        "print(\"sgn_by_def([4, 3, 2, 1]):\", sgn_by_def(sigma))"
      ],
      "metadata": {
        "colab": {
          "base_uri": "https://localhost:8080/"
        },
        "id": "QGWMjLj850sB",
        "outputId": "2b8f22e8-0c8c-47cb-dd68-5679ada97935"
      },
      "execution_count": 5,
      "outputs": [
        {
          "output_type": "stream",
          "name": "stdout",
          "text": [
            "sgn_by_def([4, 3, 2, 1]): 1\n",
            "sgn_by_def([1, 2, 3, 4]): 1\n",
            "sgn_by_def([4, 3, 2, 1]): 1\n"
          ]
        }
      ]
    },
    {
      "cell_type": "code",
      "source": [
        "#Đoạn code 1\n",
        "import numpy as np\n",
        "from itertools import permutations\n",
        "\n",
        "# Hàm tính dấu của hoán vị sign of permutation\n",
        "def sgn_by_def(sigma):\n",
        "    \"\"\"Tính dấu của hoán vị sigma dựa trên số hoán vị nghịch.\"\"\"\n",
        "    n = len(sigma)\n",
        "    inversions = 0\n",
        "    for i in range(n):\n",
        "        for j in range(i + 1, n):\n",
        "            if sigma[i] > sigma[j]:\n",
        "                inversions += 1\n",
        "    return 1 if inversions % 2 == 0 else -1\n",
        "\n",
        "\n",
        "def phatsinh_dinhtheuc(n):\n",
        "    X = [i for i in range(1, n+1)]\n",
        "    Sn = list(permutations(X))\n",
        "    dinhtthuc = \"\"\n",
        "\n",
        "    for sn in Sn:\n",
        "        sigma = np.array([1])\n",
        "        sigma.resize([n])\n",
        "        product = \"\"\n",
        "\n",
        "        # Gán giá trị cho sigma theo chỉ số\n",
        "        for i in range(1, n+1):\n",
        "            sigma[sn.index(i)] = i\n",
        "            product = product + \"a\" + str(i) + str(sn.index(i)+1)\n",
        "\n",
        "        # Tính dấu của hoán vị và thêm vào product\n",
        "        dau = sgn_by_def(sigma)\n",
        "        if (dau == 1):\n",
        "            product = \" + \" + product\n",
        "        else:\n",
        "            product = \" - \" + product\n",
        "\n",
        "        dinhtthuc = dinhtthuc + product\n",
        "\n",
        "    return dinhtthuc\n",
        "\n",
        "print(\"Kết quả cho n = 2:\")\n",
        "result_n2 = phatsinh_dinhtheuc(2)\n",
        "print(result_n2 + \" '\")\n",
        "\n",
        "print(\"\\nKết quả cho n = 3:\")\n",
        "result_n3 = phatsinh_dinhtheuc(3)\n",
        "print(result_n3 + \" '\")"
      ],
      "metadata": {
        "colab": {
          "base_uri": "https://localhost:8080/"
        },
        "id": "G9eDa5Ue6D3D",
        "outputId": "dd544299-a21f-42b8-edd0-0306db881c09"
      },
      "execution_count": 6,
      "outputs": [
        {
          "output_type": "stream",
          "name": "stdout",
          "text": [
            "Kết quả cho n = 2:\n",
            " + a11a22 - a12a21 '\n",
            "\n",
            "Kết quả cho n = 3:\n",
            " + a11a22a33 - a11a23a32 - a12a21a33 + a13a21a32 + a12a23a31 - a13a22a31 '\n"
          ]
        }
      ]
    },
    {
      "cell_type": "code",
      "source": [
        "!pip install numpy  # Đảm bảo NumPy được cài đặt\n",
        "!pip install itertools  # Đảm bảo itertools được sử dụng (thực tế đã có trong Python)\n",
        "from itertools import permutations\n",
        "import numpy as np\n",
        "\n",
        "def sgn_by_def(sigma):\n",
        "    \"\"\"Tính dấu của hoán vị sigma dựa trên số hoán vị nghịch.\"\"\"\n",
        "    n = len(sigma)\n",
        "    inversions = 0\n",
        "    for i in range(n):\n",
        "        for j in range(i + 1, n):\n",
        "            if sigma[i] > sigma[j]:\n",
        "                inversions += 1\n",
        "    return 1 if inversions % 2 == 0 else -1\n",
        "\n",
        "def tinhtoan_dinhtheuc(A):\n",
        "    n = int(np.sqrt(A.size))\n",
        "    X = list(range(1, n + 1))\n",
        "    Sn = list(permutations(X))\n",
        "    dinhtthuc = 0\n",
        "\n",
        "    for sigma in Sn:\n",
        "        product = 1\n",
        "\n",
        "        for i in range(n):\n",
        "            j = sigma[i] - 1\n",
        "            product *= A[i, j]\n",
        "\n",
        "        dau = sgn_by_def(sigma)\n",
        "        if dau == 1:\n",
        "            dinhtthuc += product\n",
        "        else:\n",
        "            dinhtthuc += product * (-1)\n",
        "\n",
        "    return dinhtthuc\n",
        "\n",
        "A = np.array([[3, 5, -8],\n",
        "              [4, -12, -1],\n",
        "              [2, 5, 3]])\n",
        "print(\"Ma trận A:\")\n",
        "print(A)\n",
        "print(\"\\nĐịnh thức của ma trận A:\", tinhtoan_dinhtheuc(A))"
      ],
      "metadata": {
        "colab": {
          "base_uri": "https://localhost:8080/"
        },
        "id": "oddbfL9u66_f",
        "outputId": "f13c2e48-5a64-44e4-d856-7193f875fd8b"
      },
      "execution_count": 8,
      "outputs": [
        {
          "output_type": "stream",
          "name": "stdout",
          "text": [
            "Requirement already satisfied: numpy in /usr/local/lib/python3.11/dist-packages (2.0.2)\n",
            "\u001b[31mERROR: Could not find a version that satisfies the requirement itertools (from versions: none)\u001b[0m\u001b[31m\n",
            "\u001b[0m\u001b[31mERROR: No matching distribution found for itertools\u001b[0m\u001b[31m\n",
            "\u001b[0mMa trận A:\n",
            "[[  3   5  -8]\n",
            " [  4 -12  -1]\n",
            " [  2   5   3]]\n",
            "\n",
            "Định thức của ma trận A: -515\n"
          ]
        }
      ]
    },
    {
      "cell_type": "code",
      "source": [
        "import numpy as np\n",
        "from itertools import permutations\n",
        "\n",
        "\n",
        "def sgn_by_def(sigma):\n",
        "    n = len(sigma)\n",
        "    inversions = 0\n",
        "    for i in range(n):\n",
        "        for j in range(i + 1, n):\n",
        "            if sigma[i] > sigma[j]:\n",
        "                inversions += 1\n",
        "    return 1 if inversions % 2 == 0 else -1\n",
        "\n",
        "def tinhtoan_dinhtheuc(A):\n",
        "    n = int(np.sqrt(A.size))\n",
        "    X = list(range(1, n + 1))\n",
        "    Sn = list(permutations(X))\n",
        "    dinhtthuc = 0\n",
        "\n",
        "    for sigma in Sn:\n",
        "        product = 1\n",
        "        for i in range(n):\n",
        "            j = sigma[i] - 1\n",
        "            product *= A[i, j]\n",
        "        dau = sgn_by_def(sigma)\n",
        "        if dau == 1:\n",
        "            dinhtthuc += product\n",
        "        else:\n",
        "            dinhtthuc += product * (-1)\n",
        "    return dinhtthuc\n",
        "\n",
        "# Khai báo ma trận hệ số A và vectơ vế phải B\n",
        "A = np.array([[2, -3, 1],\n",
        "              [2, -2, 1],\n",
        "              [3, -4, 4]])\n",
        "\n",
        "B = np.array([1, 3, 2])\n",
        "\n",
        "# Tạo ma trận detX (thay cột x bằng B)\n",
        "detX = np.array([[1, -3, 1],\n",
        "                 [3, -2, 1],\n",
        "                 [2, -4, 4]])\n",
        "\n",
        "# Tạo ma trận detY (thay cột y bằng B)\n",
        "detY = np.array([[2, 1, 1],\n",
        "                 [2, 3, 1],\n",
        "                 [3, 2, 4]])\n",
        "\n",
        "# Tạo ma trận detZ (thay cột z bằng B)\n",
        "detZ = np.array([[2, -3, 1],\n",
        "                 [2, -2, 3],\n",
        "                 [3, -4, 2]])\n",
        "\n",
        "\n",
        "det = tinhtoan_dinhtheuc(A)\n",
        "detX = tinhtoan_dinhtheuc(detX)\n",
        "detY = tinhtoan_dinhtheuc(detY)\n",
        "detZ = tinhtoan_dinhtheuc(detZ)\n",
        "\n",
        "\n",
        "x, y, z = detX/det, detY/det, detZ/det\n",
        "\n",
        "\n",
        "print(\"Nghiệm: \", \"x=\", x, \"y=\", y, \"z =\", z)"
      ],
      "metadata": {
        "colab": {
          "base_uri": "https://localhost:8080/"
        },
        "id": "ygo5wJNZ77r0",
        "outputId": "644548bc-3a85-4296-a133-901e267b1d53"
      },
      "execution_count": 9,
      "outputs": [
        {
          "output_type": "stream",
          "name": "stdout",
          "text": [
            "Nghiệm:  x= 3.6 y= 2.0 z = -0.2\n"
          ]
        }
      ]
    },
    {
      "cell_type": "code",
      "source": [
        "#Tính diện tích tam giác\n",
        "import sympy as sp\n",
        "TG = sp.Matrix([[1, 0, 1],\n",
        "                [4, 3, 1],\n",
        "                [2, 2, 1]])\n",
        "\n",
        "det_TG = TG.det()\n",
        "dien_tich = sp.Abs(det_TG) / 2\n",
        "\n",
        "print(\"Kết quả diện tích tam giác là:\", dien_tich)"
      ],
      "metadata": {
        "colab": {
          "base_uri": "https://localhost:8080/"
        },
        "id": "639PgX4j8Hcq",
        "outputId": "5a280c4d-9c61-4ede-bf81-9bd710863231"
      },
      "execution_count": 10,
      "outputs": [
        {
          "output_type": "stream",
          "name": "stdout",
          "text": [
            "Kết quả diện tích tam giác là: 3/2\n"
          ]
        }
      ]
    },
    {
      "cell_type": "code",
      "source": [
        "from sympy import *\n",
        "x, y, z = symbols('x y z')\n",
        "MP = Matrix([[x, y, z, 1],\n",
        "             [-1, 3, 2, 1],\n",
        "             [0, 1, 0, 1],\n",
        "             [-2, 0, 1, 1]])\n",
        "\n",
        "det_MP = MP.det()\n",
        "print(\"Định thức của ma trận MP:\", det_MP)\n",
        "\n",
        "P1 = Matrix([-1, 3, 2])\n",
        "P2 = Matrix([0, 1, 0])\n",
        "P3 = Matrix([-2, 0, 1])\n",
        "\n",
        "# Vectơ pháp tuyến (tích vectơ của P1P2 và P1P3)\n",
        "v1 = P2 - P1\n",
        "v2 = P3 - P1\n",
        "normal = v1.cross(v2)\n",
        "\n",
        "a, b, c = normal[0], normal[1], normal[2]\n",
        "d = -(a * P1[0] + b * P1[1] + c * P1[2])\n",
        "\n",
        "equation = f\"{a}x + {b}y + {c}z + {d} = 0\"\n",
        "print(\"\\nPhương trình mặt phẳng đi qua các điểm (-1, 3, 2), (0, 1, 0), (-2, 0, 1):\")\n",
        "print(equation)"
      ],
      "metadata": {
        "colab": {
          "base_uri": "https://localhost:8080/"
        },
        "id": "uMkdiWTl8SPR",
        "outputId": "3945d896-879a-4364-c7ec-8caff7033349"
      },
      "execution_count": 11,
      "outputs": [
        {
          "output_type": "stream",
          "name": "stdout",
          "text": [
            "Định thức của ma trận MP: -4*x + 3*y - 5*z - 3\n",
            "\n",
            "Phương trình mặt phẳng đi qua các điểm (-1, 3, 2), (0, 1, 0), (-2, 0, 1):\n",
            "-4x + 3y + -5z + -3 = 0\n"
          ]
        }
      ]
    }
  ]
}