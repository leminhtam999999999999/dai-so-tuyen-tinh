{
  "nbformat": 4,
  "nbformat_minor": 0,
  "metadata": {
    "colab": {
      "provenance": []
    },
    "kernelspec": {
      "name": "python3",
      "display_name": "Python 3"
    },
    "language_info": {
      "name": "python"
    }
  },
  "cells": [
    {
      "cell_type": "code",
      "execution_count": 2,
      "metadata": {
        "colab": {
          "base_uri": "https://localhost:8080/"
        },
        "id": "9bc2ywrlGdPV",
        "outputId": "4aade59d-58e6-4194-9ab5-2d6508797006"
      },
      "outputs": [
        {
          "output_type": "stream",
          "name": "stdout",
          "text": [
            "=== Câu 1: Phép toán cơ bản trên vector và ma trận ===\n",
            "a) Tổng A + B: [2 3 1 6]\n",
            "Tích số 2A + 3B: [ 3 11  2 14]\n",
            "b) Tích vô hướng A . B: -5\n",
            "Góc giữa hai vector (độ, làm tròn 3 chữ số): 99.594\n",
            "c) Tích ma trận C * C^T:\n",
            " [[14 -8 13]\n",
            " [-8 21 -2]\n",
            " [13 -2 29]]\n"
          ]
        }
      ],
      "source": [
        "#Câu 1\n",
        "import numpy as np\n",
        "\n",
        "print(\"=== Câu 1: Phép toán cơ bản trên vector và ma trận ===\")\n",
        "A = np.array([3, -2, 1, 4])\n",
        "B = np.array([-1, 5, 0, 2])\n",
        "tong_AB = A + B\n",
        "tich_2A_3B = 2 * A + 3 * B\n",
        "print(\"a) Tổng A + B:\", tong_AB)\n",
        "print(\"Tích số 2A + 3B:\", tich_2A_3B)\n",
        "tich_vo_huong = np.dot(A, B)\n",
        "cos_theta = tich_vo_huong / (np.linalg.norm(A) * np.linalg.norm(B))\n",
        "theta_rad = np.arccos(np.clip(cos_theta, -1.0, 1.0))\n",
        "theta_deg = np.degrees(theta_rad)\n",
        "print(\"b) Tích vô hướng A . B:\", tich_vo_huong)\n",
        "print(\"Góc giữa hai vector (độ, làm tròn 3 chữ số):\", round(theta_deg, 3))\n",
        "C = np.array([[2, -1, 3],\n",
        "              [1, 4, -2],\n",
        "              [0, 2, 5]])\n",
        "C_transpose = C.T\n",
        "tich_CCt = np.dot(C, C_transpose)\n",
        "print(\"c) Tích ma trận C * C^T:\\n\", tich_CCt)"
      ]
    },
    {
      "cell_type": "code",
      "source": [
        "#Câu 2\n",
        "import numpy as np\n",
        "print(\"=== Câu 2: Nhân ma trận, định thức và hạng ma trận ===\")\n",
        "M = np.array([[2, -1, 3, 0],\n",
        "              [1, 4, -2, 5],\n",
        "              [0, 2, 6, -3],\n",
        "              [-1, 0, 1, 4]])\n",
        "N = np.array([[1, 3, -2, 0],\n",
        "              [4, -1, 5, 2],\n",
        "              [0, 2, 3, -1],\n",
        "              [-3, 1, 0, 4]])\n",
        "tich_MN = np.dot(M, N)\n",
        "print(\"a) Tích ma trận M * N:\\n\", tich_MN)\n",
        "try:\n",
        "    det_M = np.linalg.det(M)\n",
        "    print(\"b) Định thức của ma trận M:\", det_M)\n",
        "    if abs(det_M) < 1e-10:\n",
        "        print(\"Ma trận M không khả nghịch (định thức gần 0).\")\n",
        "except np.linalg.LinAlgError:\n",
        "    print(\"b) Không thể tính định thức vì ma trận M không vuông hoặc suy biến.\")\n",
        "hang_N = np.linalg.matrix_rank(N)\n",
        "print(\"c) Hạng của ma trận N:\", hang_N)"
      ],
      "metadata": {
        "colab": {
          "base_uri": "https://localhost:8080/"
        },
        "id": "Jawl5B6dHoXu",
        "outputId": "0a711357-4eb5-4c2d-9b29-4e58b735f0a4"
      },
      "execution_count": 3,
      "outputs": [
        {
          "output_type": "stream",
          "name": "stdout",
          "text": [
            "=== Câu 2: Nhân ma trận, định thức và hạng ma trận ===\n",
            "a) Tích ma trận M * N:\n",
            " [[ -2  13   0  -5]\n",
            " [  2   0  12  30]\n",
            " [ 17   7  28 -14]\n",
            " [-13   3   5  15]]\n",
            "b) Định thức của ma trận M: 409.00000000000017\n",
            "c) Hạng của ma trận N: 4\n"
          ]
        }
      ]
    },
    {
      "cell_type": "code",
      "source": [
        "#Câu 3\n",
        "import numpy as np\n",
        "print(\" Câu 3: Nghịch đảo ma trận và giải hệ phương trình\")\n",
        "P = np.array([[3, -1, 0, 2],\n",
        "              [1, 4, -2, 0],\n",
        "              [0, 1, 5, -1],\n",
        "              [2, 0, 1, 3]])\n",
        "try:\n",
        "    det_P = np.linalg.det(P)\n",
        "    print(\"a) Định thức của ma trận P:\", det_P)\n",
        "    if abs(det_P) > 1e-10:\n",
        "        P_inv = np.linalg.inv(P)\n",
        "        print(\"Ma trận nghịch đảo của P:\\n\", P_inv)\n",
        "    else:\n",
        "        print(\"Ma trận P không khả nghịch (định thức gần 0).\")\n",
        "except np.linalg.LinAlgError:\n",
        "    print(\"a) Không thể tính nghịch đảo vì ma trận P suy biến hoặc không vuông.\")\n",
        "\n",
        "A = P\n",
        "b = np.array([6, 8, 3, 7])\n",
        "\n",
        "try:\n",
        "    x = np.linalg.solve(A, b)\n",
        "    print(\"b) Nghiệm của hệ phương trình (x, y, z, w):\", x)\n",
        "except np.linalg.LinAlgError:\n",
        "    print(\"b) Hệ phương trình không có nghiệm duy nhất hoặc ma trận A suy biến.\")\n",
        "if 'x' in locals():\n",
        "    P_x = np.dot(P, x)\n",
        "    print(\"c) Kiểm tra (P @ x):\", P_x)\n",
        "    print(\"Vector hạng số b:\", b)\n",
        "    if np.allclose(P_x, b, atol=1e-8):\n",
        "        print(\"Nghiệm đúng (P @ x ≈ b).\")\n",
        "    else:\n",
        "        print(\"Nghiệm không khớp với vector b.\")"
      ],
      "metadata": {
        "colab": {
          "base_uri": "https://localhost:8080/"
        },
        "id": "1rQBw80uHyxs",
        "outputId": "6a5bff17-7090-4aec-baf3-369629794585"
      },
      "execution_count": 5,
      "outputs": [
        {
          "output_type": "stream",
          "name": "stdout",
          "text": [
            " Câu 3: Nghịch đảo ma trận và giải hệ phương trình\n",
            "a) Định thức của ma trận P: 140.00000000000006\n",
            "Ma trận nghịch đảo của P:\n",
            " [[ 0.5         0.1         0.1        -0.3       ]\n",
            " [-0.14285714  0.2         0.05714286  0.11428571]\n",
            " [-0.03571429 -0.05        0.16428571  0.07857143]\n",
            " [-0.32142857 -0.05       -0.12142857  0.50714286]]\n",
            "b) Nghiệm của hệ phương trình (x, y, z, w): [2.         1.71428571 0.42857143 0.85714286]\n",
            "c) Kiểm tra (P @ x): [6. 8. 3. 7.]\n",
            "Vector hạng số b: [6 8 3 7]\n",
            "Nghiệm đúng (P @ x ≈ b).\n"
          ]
        }
      ]
    },
    {
      "cell_type": "code",
      "source": [
        "#câu 4\n",
        "import numpy as np\n",
        "print(\"Câu 4: Giá trị riêng, vector riêng và chuẩn hóa\")\n",
        "Q = np.array([[5, -2, 1],\n",
        "              [0, 3, -1],\n",
        "              [2, 0, 4]])\n",
        "eigenvalues = np.linalg.eigvals(Q)\n",
        "print(\"a) Các giá trị riêng của Q:\", eigenvalues)\n",
        "eigenvalues, eigenvectors = np.linalg.eig(Q)\n",
        "print(\"b) Các vector riêng (cột) tương ứng với giá trị riêng:\")\n",
        "for i in range(len(eigenvalues)):\n",
        "    print(f\"Vector riêng cho giá trị riêng {eigenvalues[i]}:\\n\", eigenvectors[:, i])\n",
        "print(\"c) Các vector riêng được chuẩn hóa (độ dài = 1):\")\n",
        "for i in range(eigenvectors.shape[1]):\n",
        "    vec = eigenvectors[:, i]\n",
        "    norm_vec = vec / np.linalg.norm(vec)\n",
        "    print(f\"Vector riêng chuẩn hóa cho giá trị riêng {eigenvalues[i]}:\\n\", norm_vec)"
      ],
      "metadata": {
        "colab": {
          "base_uri": "https://localhost:8080/"
        },
        "id": "FXEmHBKmIK1Y",
        "outputId": "a3c7435f-a385-460e-bb59-f52c1def65c1"
      },
      "execution_count": 7,
      "outputs": [
        {
          "output_type": "stream",
          "name": "stdout",
          "text": [
            "Câu 4: Giá trị riêng, vector riêng và chuẩn hóa\n",
            "a) Các giá trị riêng của Q: [6.3553014+0.j         2.8223493+1.07730381j 2.8223493-1.07730381j]\n",
            "b) Các vector riêng (cột) tương ứng với giá trị riêng:\n",
            "Vector riêng cho giá trị riêng (6.355301397608123+0j):\n",
            " [ 0.74846013+0.j -0.18941773+0.j  0.63555359+0.j]\n",
            "Vector riêng cho giá trị riêng (2.822349301195943+1.0773038128499652j):\n",
            " [-0.37423006+0.34234215j  0.09470887+0.57433055j  0.63555359+0.j        ]\n",
            "Vector riêng cho giá trị riêng (2.822349301195943-1.0773038128499652j):\n",
            " [-0.37423006-0.34234215j  0.09470887-0.57433055j  0.63555359-0.j        ]\n",
            "c) Các vector riêng được chuẩn hóa (độ dài = 1):\n",
            "Vector riêng chuẩn hóa cho giá trị riêng (6.355301397608123+0j):\n",
            " [ 0.74846013+0.j -0.18941773+0.j  0.63555359+0.j]\n",
            "Vector riêng chuẩn hóa cho giá trị riêng (2.822349301195943+1.0773038128499652j):\n",
            " [-0.37423006+0.34234215j  0.09470887+0.57433055j  0.63555359+0.j        ]\n",
            "Vector riêng chuẩn hóa cho giá trị riêng (2.822349301195943-1.0773038128499652j):\n",
            " [-0.37423006-0.34234215j  0.09470887-0.57433055j  0.63555359-0.j        ]\n"
          ]
        }
      ]
    },
    {
      "cell_type": "code",
      "source": [
        "import numpy as np\n",
        "\n",
        "print(\" Câu 5: Ứng dụng thuật toán - Hệ phương trình và phân tích \")\n",
        "R = np.array([[4, -1, 2],\n",
        "              [1, 3, -2],\n",
        "              [0, 2, 5]])\n",
        "b = np.array([12, 5, 9])\n",
        "try:\n",
        "    x = np.linalg.solve(R, b)\n",
        "    print(\"a) Nghiệm của hệ phương trình (x):\", x)\n",
        "except np.linalg.LinAlgError:\n",
        "    print(\"a) Hệ phương trình không có nghiệm duy nhất hoặc ma trận R suy biến.\")\n",
        "det_R = np.linalg.det(R)\n",
        "print(\"b) Định thức của ma trận R:\", det_R)\n",
        "if abs(det_R) > 1e-10:\n",
        "    R_inv = np.linalg.inv(R)\n",
        "    print(\"Ma trận R khả nghịch. Ma trận nghịch đảo:\\n\", R_inv)\n",
        "else:\n",
        "    print(\"Ma trận R không khả nghịch (định thức gần 0).\")\n",
        "frobenius_norm = np.sqrt(np.sum(R ** 2))\n",
        "print(\"c) Chuẩn Frobenius của ma trận R:\", frobenius_norm)"
      ],
      "metadata": {
        "colab": {
          "base_uri": "https://localhost:8080/"
        },
        "id": "-YxeS9EiIcgy",
        "outputId": "cb67084a-6fc5-43b0-9a8a-5f539313c306"
      },
      "execution_count": 8,
      "outputs": [
        {
          "output_type": "stream",
          "name": "stdout",
          "text": [
            " Câu 5: Ứng dụng thuật toán - Hệ phương trình và phân tích \n",
            "a) Nghiệm của hệ phương trình (x): [2.78823529 1.52941176 1.18823529]\n",
            "b) Định thức của ma trận R: 85.00000000000001\n",
            "Ma trận R khả nghịch. Ma trận nghịch đảo:\n",
            " [[ 0.22352941  0.10588235 -0.04705882]\n",
            " [-0.05882353  0.23529412  0.11764706]\n",
            " [ 0.02352941 -0.09411765  0.15294118]]\n",
            "c) Chuẩn Frobenius của ma trận R: 8.0\n"
          ]
        }
      ]
    }
  ]
}