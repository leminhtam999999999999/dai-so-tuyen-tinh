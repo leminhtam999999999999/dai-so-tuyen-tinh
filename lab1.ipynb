{
  "nbformat": 4,
  "nbformat_minor": 0,
  "metadata": {
    "colab": {
      "provenance": []
    },
    "kernelspec": {
      "name": "python3",
      "display_name": "Python 3"
    },
    "language_info": {
      "name": "python"
    }
  },
  "cells": [
    {
      "cell_type": "code",
      "execution_count": 1,
      "metadata": {
        "colab": {
          "base_uri": "https://localhost:8080/"
        },
        "id": "dAAJmbjarKI-",
        "outputId": "65c0763c-baef-4b4e-d815-11dd294a2c02"
      },
      "outputs": [
        {
          "output_type": "stream",
          "name": "stdout",
          "text": [
            "Kết quả ghép các danh sách:\n",
            "[(2, 'ToanCC', 10), (3, 'DSTT', 9), (4, 'ToanRR', 8), (1, 'LaptrinhCB', 7)]\n",
            "\n",
            "Chi tiết từng môn:\n",
            "Thứ tự: 2, Môn: ToanCC, Điểm: 10\n",
            "Thứ tự: 3, Môn: DSTT, Điểm: 9\n",
            "Thứ tự: 4, Môn: ToanRR, Điểm: 8\n",
            "Thứ tự: 1, Môn: LaptrinhCB, Điểm: 7\n"
          ]
        }
      ],
      "source": [
        "mon_hoc = [\"ToanCC\", \"DSTT\", \"ToanRR\", \"LaptrinhCB\"]\n",
        "thu_tu = [2, 3, 4, 1]\n",
        "diem_so = [10, 9, 8, 7]\n",
        "\n",
        "anh_xa = zip(thu_tu, mon_hoc, diem_so)\n",
        "anh_xa_list = list(anh_xa)\n",
        "print(\"Kết quả ghép các danh sách:\")\n",
        "print(anh_xa_list)\n",
        "print(\"\\nChi tiết từng môn:\")\n",
        "for tt, mon, diem in zip(thu_tu, mon_hoc, diem_so):\n",
        "    print(f\"Thứ tự: {tt}, Môn: {mon}, Điểm: {diem}\")"
      ]
    },
    {
      "cell_type": "code",
      "source": [
        "mon_hoc = [\"ToanCC\", \"DSTT\", \"ToanRR\", \"LaptrinhCB\"]\n",
        "thu_tu = [2, 3, 4, 1]\n",
        "diem_so = [10, 9, 8, 7]\n",
        "anh_xa = zip(thu_tu, mon_hoc, diem_so)\n",
        "tap_hop = set(anh_xa)\n",
        "print(\"Tập hợp các phần tử:\")\n",
        "for item in tap_hop:\n",
        "    print(item)"
      ],
      "metadata": {
        "colab": {
          "base_uri": "https://localhost:8080/"
        },
        "id": "mYac30U3rfs5",
        "outputId": "b98f6570-66eb-4244-8bf0-ea64530be1ce"
      },
      "execution_count": 3,
      "outputs": [
        {
          "output_type": "stream",
          "name": "stdout",
          "text": [
            "Tập hợp các phần tử:\n",
            "(2, 'ToanCC', 10)\n",
            "(3, 'DSTT', 9)\n",
            "(1, 'LaptrinhCB', 7)\n",
            "(4, 'ToanRR', 8)\n"
          ]
        }
      ]
    },
    {
      "cell_type": "code",
      "source": [
        "mon_hoc = [\"ToanCC\", \"DSTT\", \"ToanRR\", \"LaptrinhCB\"]\n",
        "thu_tu = [2, 3, 4, 1]\n",
        "diem_so = [10, 9, 8, 7]\n",
        "anh_xa = zip(thu_tu, mon_hoc, diem_so)\n",
        "lay_TT, lay_monhoc, lay_diem = zip(*anh_xa)\n",
        "print(\"Danh sách môn học sau khi phân rã:\")\n",
        "print(lay_monhoc)\n",
        "print(\"\\nDanh sách thứ tự:\")\n",
        "print(lay_TT)\n",
        "print(\"\\nDanh sách điểm số:\")\n",
        "print(lay_diem)"
      ],
      "metadata": {
        "colab": {
          "base_uri": "https://localhost:8080/"
        },
        "id": "4aO4sX9osJL1",
        "outputId": "1c9ea3d8-d936-44f6-e5fc-24e6dcd7786a"
      },
      "execution_count": 4,
      "outputs": [
        {
          "output_type": "stream",
          "name": "stdout",
          "text": [
            "Danh sách môn học sau khi phân rã:\n",
            "('ToanCC', 'DSTT', 'ToanRR', 'LaptrinhCB')\n",
            "\n",
            "Danh sách thứ tự:\n",
            "(2, 3, 4, 1)\n",
            "\n",
            "Danh sách điểm số:\n",
            "(10, 9, 8, 7)\n"
          ]
        }
      ]
    },
    {
      "cell_type": "code",
      "source": [
        "from sympy import Symbol, symbols, expand\n",
        "\n",
        "# Khởi tạo biến symbol x, y\n",
        "x = Symbol('x')\n",
        "y = Symbol('y')\n",
        "\n",
        "# Ví dụ 1: Phép cộng biểu thức\n",
        "s = x * y + y * x\n",
        "print(\"s =\", s)\n",
        "\n",
        "# Ví dụ 2: Phép nhân với biểu thức có cộng bên trong\n",
        "p = x * (x + 2 * x)\n",
        "print(\"p =\", p)\n",
        "\n",
        "# Ví dụ 3: Biểu thức không được tự động khai triển (expand)\n",
        "p = (x + 2) * (y + 3)\n",
        "print(\"p =\", p)\n",
        "\n",
        "# Ví dụ 4: Biểu thức phức hợp chưa khai triển\n",
        "p = (x + 2) * (y + 3) + (x + 2) * (x - 3)\n",
        "print(\"p chưa expand =\", p)\n",
        "\n",
        "# Ví dụ 5: Biểu thức được SymPy tự động đơn giản hóa\n",
        "p = x * (-x + 2 * x - x)\n",
        "print(\"p đơn giản =\", p)\n",
        "\n",
        "# Ví dụ 6: Sử dụng expand() để khai triển biểu thức\n",
        "p = (x + 2) * (y + 3)\n",
        "p_expanded = p.expand()\n",
        "print(\"p sau khi expand =\", p_expanded)\n",
        "\n",
        "# Bonus: Khởi tạo nhiều biến cùng lúc\n",
        "a, b, c = symbols('a b c')\n",
        "q = a**2 + b*c - c/a\n",
        "print(\"Biểu thức q =\", q)\n"
      ],
      "metadata": {
        "colab": {
          "base_uri": "https://localhost:8080/"
        },
        "id": "ElZLO0-A6co2",
        "outputId": "12aa80dd-bde0-4905-d719-66d141305226"
      },
      "execution_count": 21,
      "outputs": [
        {
          "output_type": "stream",
          "name": "stdout",
          "text": [
            "s = 2*x*y\n",
            "p = 3*x**2\n",
            "p = (x + 2)*(y + 3)\n",
            "p chưa expand = (x - 3)*(x + 2) + (x + 2)*(y + 3)\n",
            "p đơn giản = 0\n",
            "p sau khi expand = x*y + 3*x + 2*y + 6\n",
            "Biểu thức q = a**2 + b*c - c/a\n"
          ]
        }
      ]
    },
    {
      "cell_type": "code",
      "source": [
        "from sympy import Symbol, sin, cos, simplify\n",
        "\n",
        "x = Symbol('x')\n",
        "y = Symbol('y')\n",
        "\n",
        "bt = sin(x)*cos(y) + cos(x)*sin(y)\n",
        "bt_moi = simplify(bt)\n",
        "print(bt_moi)\n"
      ],
      "metadata": {
        "colab": {
          "base_uri": "https://localhost:8080/"
        },
        "id": "JYMs-BDB7JaQ",
        "outputId": "b846f70d-b849-4530-8be3-b2714cc73b8d"
      },
      "execution_count": 22,
      "outputs": [
        {
          "output_type": "stream",
          "name": "stdout",
          "text": [
            "sin(x + y)\n"
          ]
        }
      ]
    },
    {
      "cell_type": "code",
      "source": [
        ">>> bt_moi\n",
        "sin(x + y)\n"
      ],
      "metadata": {
        "colab": {
          "base_uri": "https://localhost:8080/",
          "height": 38
        },
        "id": "RhU_BM8-7-aB",
        "outputId": "7862dad2-871f-4944-e414-abb25b45e011"
      },
      "execution_count": 23,
      "outputs": [
        {
          "output_type": "execute_result",
          "data": {
            "text/plain": [
              "sin(x + y)"
            ],
            "text/latex": "$\\displaystyle \\sin{\\left(x + y \\right)}$"
          },
          "metadata": {},
          "execution_count": 23
        }
      ]
    },
    {
      "cell_type": "code",
      "source": [
        "#Bài tập 1\n",
        "from sympy import Symbol, solve\n",
        "x = Symbol('x')\n",
        "bieuthuc = x + 3 - 5\n",
        "nghiem = solve(bieuthuc)\n",
        "print(\"Nghiệm của phương trình x + 3 - 5 = 0 là:\")\n",
        "print(nghiem)"
      ],
      "metadata": {
        "colab": {
          "base_uri": "https://localhost:8080/"
        },
        "id": "IH71NXNXs3ss",
        "outputId": "d9494e45-45ce-4761-e74d-e1a146a9b67e"
      },
      "execution_count": 5,
      "outputs": [
        {
          "output_type": "stream",
          "name": "stdout",
          "text": [
            "Nghiệm của phương trình x + 3 - 5 = 0 là:\n",
            "[2]\n"
          ]
        }
      ]
    },
    {
      "cell_type": "code",
      "source": [
        "from sympy import Symbol, solve\n",
        "x = Symbol('x')\n",
        "bieuthuc = x**2 + 3 - 5\n",
        "nghiemx = solve(bieuthuc)\n",
        "print(\"Danh sách các nghiệm của phương trình x^2 - 2 = 0:\")\n",
        "print(\"nghiemx =\", nghiemx)\n",
        "print(\"nghiemx[0] =\", nghiemx[0])\n",
        "print(\"nghiemx[1] =\", nghiemx[1])"
      ],
      "metadata": {
        "colab": {
          "base_uri": "https://localhost:8080/"
        },
        "id": "ZC0POufuuOqv",
        "outputId": "0403c9ff-6577-4d05-9948-b2fd821401b3"
      },
      "execution_count": 6,
      "outputs": [
        {
          "output_type": "stream",
          "name": "stdout",
          "text": [
            "Danh sách các nghiệm của phương trình x^2 - 2 = 0:\n",
            "nghiemx = [-sqrt(2), sqrt(2)]\n",
            "nghiemx[0] = -sqrt(2)\n",
            "nghiemx[1] = sqrt(2)\n"
          ]
        }
      ]
    },
    {
      "cell_type": "code",
      "source": [
        "#Bài tập 2\n",
        "from sympy import Symbol, solve\n",
        "x = Symbol('x')\n",
        "ptb2 = x**2 + 9*x + 8\n",
        "nghiem = solve(ptb2, dict=True)\n",
        "print(\"Nghiệm của phương trình x^2 + 9x + 8 = 0:\")\n",
        "print(nghiem)\n"
      ],
      "metadata": {
        "colab": {
          "base_uri": "https://localhost:8080/"
        },
        "id": "vfS4fOvwul9I",
        "outputId": "2d1eb2da-1635-46ea-b184-f16659c9c997"
      },
      "execution_count": 7,
      "outputs": [
        {
          "output_type": "stream",
          "name": "stdout",
          "text": [
            "Nghiệm của phương trình x^2 + 9x + 8 = 0:\n",
            "[{x: -8}, {x: -1}]\n"
          ]
        }
      ]
    },
    {
      "cell_type": "code",
      "source": [
        "from sympy import Symbol, solve\n",
        "x = Symbol('x')\n",
        "ptb2 = x**2 + x + 10\n",
        "nghiemx = solve(ptb2, dict=True)\n",
        "print(\"Nghiệm của phương trình x^2 + x + 10 = 0:\")\n",
        "print(nghiemx)"
      ],
      "metadata": {
        "colab": {
          "base_uri": "https://localhost:8080/"
        },
        "id": "HEyMwXceu_VC",
        "outputId": "bbea466d-7fff-4b7b-daad-90a43378dc6d"
      },
      "execution_count": 8,
      "outputs": [
        {
          "output_type": "stream",
          "name": "stdout",
          "text": [
            "Nghiệm của phương trình x^2 + x + 10 = 0:\n",
            "[{x: -1/2 - sqrt(39)*I/2}, {x: -1/2 + sqrt(39)*I/2}]\n"
          ]
        }
      ]
    },
    {
      "cell_type": "code",
      "source": [
        "#Bài 3\n",
        "from sympy import Symbol, solve\n",
        "x = Symbol('x')\n",
        "a = Symbol('a')\n",
        "b = Symbol('b')\n",
        "c = Symbol('c')\n",
        "ptb2 = a*x**2 + b*x + c\n",
        "nghiem = solve(ptb2, x, dict=True)\n",
        "print(\"Nghiệm của phương trình ax^2 + bx + c = 0:\")\n",
        "print(nghiem)"
      ],
      "metadata": {
        "colab": {
          "base_uri": "https://localhost:8080/"
        },
        "id": "Gk5tAIDsvMRr",
        "outputId": "8dbde453-4455-418f-9791-8f37fb6c8f36"
      },
      "execution_count": 9,
      "outputs": [
        {
          "output_type": "stream",
          "name": "stdout",
          "text": [
            "Nghiệm của phương trình ax^2 + bx + c = 0:\n",
            "[{x: (-b - sqrt(-4*a*c + b**2))/(2*a)}, {x: (-b + sqrt(-4*a*c + b**2))/(2*a)}]\n"
          ]
        }
      ]
    },
    {
      "cell_type": "code",
      "source": [
        "#hàm solve\n",
        "from sympy import Symbol, solve\n",
        "x = Symbol('x')\n",
        "a = Symbol('a')\n",
        "b = Symbol('b')\n",
        "c = Symbol('c')\n",
        "pt = a*x + b - c\n",
        "nghiem = solve(pt, x, dict=True)\n",
        "print(\"Nghiệm của phương trình ax + b - c = 0:\")\n",
        "print(nghiem)\n",
        "nghiem_list = solve(pt, x)\n",
        "print(\"\\nNghiệm dạng danh sách (dict=False):\")\n",
        "print(nghiem_list)"
      ],
      "metadata": {
        "colab": {
          "base_uri": "https://localhost:8080/"
        },
        "id": "0zPHk49lv-ND",
        "outputId": "d015cdc7-18ca-4463-ce97-20346b2578fa"
      },
      "execution_count": 10,
      "outputs": [
        {
          "output_type": "stream",
          "name": "stdout",
          "text": [
            "Nghiệm của phương trình ax + b - c = 0:\n",
            "[{x: (-b + c)/a}]\n",
            "\n",
            "Nghiệm dạng danh sách (dict=False):\n",
            "[(-b + c)/a]\n"
          ]
        }
      ]
    },
    {
      "cell_type": "code",
      "source": [
        "#Bài 4\n",
        "from sympy import Symbol, solve\n",
        "x = Symbol('x')\n",
        "y = Symbol('y')\n",
        "pt1 = 2*x + 3*y - 12\n",
        "pt2 = 3*x - 2*y - 5\n",
        "nghiem = solve((pt1, pt2), dict=True)\n",
        "print(\"Nghiệm của hệ phương trình:\")\n",
        "print(nghiem)"
      ],
      "metadata": {
        "colab": {
          "base_uri": "https://localhost:8080/"
        },
        "id": "W3vMMVsBwQoL",
        "outputId": "258980e7-6d0a-42c3-8a60-7ed0d3132ffa"
      },
      "execution_count": 11,
      "outputs": [
        {
          "output_type": "stream",
          "name": "stdout",
          "text": [
            "Nghiệm của hệ phương trình:\n",
            "[{x: 3, y: 2}]\n"
          ]
        }
      ]
    },
    {
      "cell_type": "code",
      "source": [
        "from sympy import Symbol, solve\n",
        "x = Symbol('x')\n",
        "y = Symbol('y')\n",
        "pt1 = 2*x + 3*y - 12\n",
        "pt2 = 3*x - 2*y - 5\n",
        "nghiem = solve((pt1, pt2), dict=True)\n",
        "nghiem = nghiem[0]\n",
        "ket_qua_pt1 = pt1.subs({x: nghiem[x], y: nghiem[y]})\n",
        "ket_qua_pt2 = pt2.subs({x: nghiem[x], y: nghiem[y]})\n",
        "print(\"Nghiệm của hệ phương trình:\", nghiem)\n",
        "print(\"Giá trị của pt1 sau khi thay nghiệm x = {}, y = {}:\".format(nghiem[x], nghiem[y]))\n",
        "print(ket_qua_pt1)\n",
        "print(\"Giá trị của pt2 sau khi thay nghiệm x = {}, y = {}:\".format(nghiem[x], nghiem[y]))\n",
        "print(ket_qua_pt2)"
      ],
      "metadata": {
        "colab": {
          "base_uri": "https://localhost:8080/"
        },
        "id": "w8CE5hIkw0jk",
        "outputId": "eb35c343-1159-4386-d671-61da7770d13b"
      },
      "execution_count": 13,
      "outputs": [
        {
          "output_type": "stream",
          "name": "stdout",
          "text": [
            "Nghiệm của hệ phương trình: {x: 3, y: 2}\n",
            "Giá trị của pt1 sau khi thay nghiệm x = 3, y = 2:\n",
            "0\n",
            "Giá trị của pt2 sau khi thay nghiệm x = 3, y = 2:\n",
            "0\n"
          ]
        }
      ]
    },
    {
      "cell_type": "code",
      "source": [
        "#Bài 5\n",
        "import numpy as np\n",
        "\n",
        "# === Phần 1: Ma trận và vector ===\n",
        "print(\"=== Phần 1: Ma trận và vector ===\")\n",
        "M1 = np.array([[9, 12], [23, 30]])\n",
        "print(\"M1:\")\n",
        "print(M1)\n",
        "\n",
        "u = np.array([2, 1])\n",
        "tichM1u = M1.dot(u)\n",
        "print(\"M1.dot(u):\")\n",
        "print(tichM1u)\n",
        "print(\"Giải thích: M1 * u = [9*2 + 12*1, 23*2 + 30*1] = [30, 76]\")\n",
        "\n",
        "tichuM1 = u.dot(M1)\n",
        "print(\"u.dot(M1):\")\n",
        "print(tichuM1)\n",
        "print(\"Giải thích: u * M1 = [2*9 + 1*23, 2*12 + 1*30] = [41, 54]\")\n",
        "\n",
        "print(\"np.dot(M1, u):\")\n",
        "print(np.dot(M1, u))\n",
        "print(\"Giải thích: Tương đương M1.dot(u) = [30, 76]\")\n",
        "\n",
        "print(\"np.dot(u, M1):\")\n",
        "print(np.dot(u, M1))\n",
        "print(\"Giải thích: Tương đương u.dot(M1) = [41, 54]\")\n",
        "\n",
        "# === Phần 2: Các ma trận ===\n",
        "print(\"\\n=== Phần 2: Các ma trận ===\")\n",
        "mat1 = np.zeros([5, 5])\n",
        "print(\"mat1:\")\n",
        "print(mat1)\n",
        "print(\"Giải thích: Ma trận toàn số 0, kích thước 5x5\")\n",
        "\n",
        "mat2 = np.ones([5, 5])\n",
        "print(\"mat2:\")\n",
        "print(mat2)\n",
        "print(\"Giải thích: Ma trận toàn số 1, kích thước 5x5\")\n",
        "\n",
        "mat3 = mat1 + 2 * mat2\n",
        "print(\"mat3:\")\n",
        "print(mat3)\n",
        "print(\"Giải thích: Mỗi phần tử trong mat3 = 0 + 2*1 = 2\")\n",
        "\n",
        "mat4 = mat3\n",
        "mat3[3][2] = 10\n",
        "print(\"mat3 sau khi thay đổi phần tử [3][2] = 10:\")\n",
        "print(mat3)\n",
        "print(\"mat4 (tham chiếu cùng mat3 nên cũng thay đổi):\")\n",
        "print(mat4)\n",
        "\n",
        "mat5 = np.copy(mat3)\n",
        "mat3[3][2] = 20  # Thay đổi tiếp\n",
        "print(\"mat3 sau khi thay đổi phần tử [3][2] = 20:\")\n",
        "print(mat3)\n",
        "print(\"mat4 (cũng bị thay đổi):\")\n",
        "print(mat4)\n",
        "print(\"mat5 (sao chép độc lập, vẫn giữ giá trị cũ là 10):\")\n",
        "print(mat5)\n",
        "\n",
        "mat6 = np.empty([4, 5])\n",
        "print(\"mat6:\")\n",
        "print(mat6)\n",
        "print(\"Giải thích: Ma trận chưa được khởi tạo giá trị rõ ràng, chứa dữ liệu rác\")\n",
        "\n",
        "mat7 = np.identity(4)\n",
        "print(\"mat7:\")\n",
        "print(mat7)\n",
        "print(\"Giải thích: Ma trận đơn vị 4x4\")\n",
        "\n",
        "mat8 = np.random.random([4, 5])\n",
        "print(\"mat8:\")\n",
        "print(mat8)\n",
        "print(\"Giải thích: Ma trận 4x5 chứa giá trị ngẫu nhiên trong [0.0, 1.0)\")\n",
        "## Vì sao mất 8 là ma trận 4x5 gồm các số thực ngẫu nhiên trong khoảng [0.0, 1.0), được sinh bởi hàm np.random.random([4,5]). Mỗi lần chạy sẽ ra giá trị khác nhau.\n",
        "mat8 = np.random.random([4, 5])\n",
        "print(mat8)\n",
        "\n"
      ],
      "metadata": {
        "colab": {
          "base_uri": "https://localhost:8080/"
        },
        "id": "hEtiBubvw9GY",
        "outputId": "fd9182e2-2530-434e-81a8-15960946589d"
      },
      "execution_count": 17,
      "outputs": [
        {
          "output_type": "stream",
          "name": "stdout",
          "text": [
            "=== Phần 1: Ma trận và vector ===\n",
            "M1:\n",
            "[[ 9 12]\n",
            " [23 30]]\n",
            "M1.dot(u):\n",
            "[30 76]\n",
            "Giải thích: M1 * u = [9*2 + 12*1, 23*2 + 30*1] = [30, 76]\n",
            "u.dot(M1):\n",
            "[41 54]\n",
            "Giải thích: u * M1 = [2*9 + 1*23, 2*12 + 1*30] = [41, 54]\n",
            "np.dot(M1, u):\n",
            "[30 76]\n",
            "Giải thích: Tương đương M1.dot(u) = [30, 76]\n",
            "np.dot(u, M1):\n",
            "[41 54]\n",
            "Giải thích: Tương đương u.dot(M1) = [41, 54]\n",
            "\n",
            "=== Phần 2: Các ma trận ===\n",
            "mat1:\n",
            "[[0. 0. 0. 0. 0.]\n",
            " [0. 0. 0. 0. 0.]\n",
            " [0. 0. 0. 0. 0.]\n",
            " [0. 0. 0. 0. 0.]\n",
            " [0. 0. 0. 0. 0.]]\n",
            "Giải thích: Ma trận toàn số 0, kích thước 5x5\n",
            "mat2:\n",
            "[[1. 1. 1. 1. 1.]\n",
            " [1. 1. 1. 1. 1.]\n",
            " [1. 1. 1. 1. 1.]\n",
            " [1. 1. 1. 1. 1.]\n",
            " [1. 1. 1. 1. 1.]]\n",
            "Giải thích: Ma trận toàn số 1, kích thước 5x5\n",
            "mat3:\n",
            "[[2. 2. 2. 2. 2.]\n",
            " [2. 2. 2. 2. 2.]\n",
            " [2. 2. 2. 2. 2.]\n",
            " [2. 2. 2. 2. 2.]\n",
            " [2. 2. 2. 2. 2.]]\n",
            "Giải thích: Mỗi phần tử trong mat3 = 0 + 2*1 = 2\n",
            "mat3 sau khi thay đổi phần tử [3][2] = 10:\n",
            "[[ 2.  2.  2.  2.  2.]\n",
            " [ 2.  2.  2.  2.  2.]\n",
            " [ 2.  2.  2.  2.  2.]\n",
            " [ 2.  2. 10.  2.  2.]\n",
            " [ 2.  2.  2.  2.  2.]]\n",
            "mat4 (tham chiếu cùng mat3 nên cũng thay đổi):\n",
            "[[ 2.  2.  2.  2.  2.]\n",
            " [ 2.  2.  2.  2.  2.]\n",
            " [ 2.  2.  2.  2.  2.]\n",
            " [ 2.  2. 10.  2.  2.]\n",
            " [ 2.  2.  2.  2.  2.]]\n",
            "mat3 sau khi thay đổi phần tử [3][2] = 20:\n",
            "[[ 2.  2.  2.  2.  2.]\n",
            " [ 2.  2.  2.  2.  2.]\n",
            " [ 2.  2.  2.  2.  2.]\n",
            " [ 2.  2. 20.  2.  2.]\n",
            " [ 2.  2.  2.  2.  2.]]\n",
            "mat4 (cũng bị thay đổi):\n",
            "[[ 2.  2.  2.  2.  2.]\n",
            " [ 2.  2.  2.  2.  2.]\n",
            " [ 2.  2.  2.  2.  2.]\n",
            " [ 2.  2. 20.  2.  2.]\n",
            " [ 2.  2.  2.  2.  2.]]\n",
            "mat5 (sao chép độc lập, vẫn giữ giá trị cũ là 10):\n",
            "[[ 2.  2.  2.  2.  2.]\n",
            " [ 2.  2.  2.  2.  2.]\n",
            " [ 2.  2.  2.  2.  2.]\n",
            " [ 2.  2. 10.  2.  2.]\n",
            " [ 2.  2.  2.  2.  2.]]\n",
            "mat6:\n",
            "[[0.83002923 0.43911469 0.62048789 0.44953182 0.33700343]\n",
            " [0.62535516 0.53177651 0.02955275 0.81939891 0.89356867]\n",
            " [0.41070148 0.99674503 0.11114536 0.71775044 0.16529059]\n",
            " [0.12283966 0.12494453 0.67853994 0.37281323 0.33000937]]\n",
            "Giải thích: Ma trận chưa được khởi tạo giá trị rõ ràng, chứa dữ liệu rác\n",
            "mat7:\n",
            "[[1. 0. 0. 0.]\n",
            " [0. 1. 0. 0.]\n",
            " [0. 0. 1. 0.]\n",
            " [0. 0. 0. 1.]]\n",
            "Giải thích: Ma trận đơn vị 4x4\n",
            "mat8:\n",
            "[[0.14414283 0.2490825  0.52805514 0.36439503 0.56090628]\n",
            " [0.22624265 0.30753449 0.76648133 0.3262157  0.62067113]\n",
            " [0.70008865 0.41075768 0.41954646 0.62966669 0.74713052]\n",
            " [0.75820126 0.58811833 0.18600235 0.18017922 0.91368497]]\n",
            "Giải thích: Ma trận 4x5 chứa giá trị ngẫu nhiên trong [0.0, 1.0)\n",
            "[[0.78135704 0.2577395  0.59189604 0.63487129 0.01991169]\n",
            " [0.40051425 0.48287387 0.8170179  0.56535449 0.01212936]\n",
            " [0.83836214 0.57319439 0.87114471 0.99922416 0.87613484]\n",
            " [0.7740294  0.23047458 0.11010859 0.96668604 0.69666776]]\n"
          ]
        }
      ]
    },
    {
      "cell_type": "code",
      "source": [
        "#Câu 6\n",
        "import numpy as np\n",
        "\n",
        "\n",
        "A = np.array([  # Cháy rừng\n",
        "    [0, 0, 0, 0],\n",
        "    [1, 1, 1, 1],\n",
        "    [3, 3, 3, 3],\n",
        "    [5, 5, 5, 5],\n",
        "    [9, 9, 9, 9]\n",
        "])\n",
        "\n",
        "B = np.array([  # Lũ quét\n",
        "    [0, 0, 0, 0],\n",
        "    [1, 1, 1, 1],\n",
        "    [2, 2, 2, 2],\n",
        "    [4, 4, 4, 4],\n",
        "    [8, 8, 8, 8]\n",
        "])\n",
        "\n",
        "C = np.array([  # Sạt lở núi\n",
        "    [0, 0, 0, 0],\n",
        "    [1, 1, 1, 1],\n",
        "    [2, 2, 2, 2],\n",
        "    [3, 3, 3, 3],\n",
        "    [5, 5, 5, 5]\n",
        "])\n",
        "\n",
        "D = np.array([  # Bệnh dịch\n",
        "    [0, 0, 0, 0],\n",
        "    [1, 1, 1, 1],\n",
        "    [1, 1, 1, 1],\n",
        "    [3, 3, 3, 3],\n",
        "    [5, 5, 5, 5]\n",
        "])\n",
        "\n",
        "E = np.array([  # Lộ bí mật\n",
        "    [0, 0, 0, 0],\n",
        "    [1, 1, 1, 1],\n",
        "    [2, 2, 2, 2],\n",
        "    [3, 3, 3, 3],\n",
        "    [5, 5, 5, 5]\n",
        "])\n",
        "\n",
        "# Ma trận cấp độ nguy cơ tại mỗi vị trí tương ứng\n",
        "L1 = np.array([\n",
        "    [3, 2, 1, 2],\n",
        "    [3, 2, 1, 0],\n",
        "    [1, 2, 3, 1]\n",
        "])\n",
        "\n",
        "L2 = np.array([\n",
        "    [2, 3, 0, 0],\n",
        "    [2, 2, 2, 2],\n",
        "    [3, 3, 3, 3]\n",
        "])\n",
        "\n",
        "L3 = np.array([\n",
        "    [2, 1, 2, 3],\n",
        "    [0, 0, 0, 0],\n",
        "    [1, 1, 1, 1]\n",
        "])\n",
        "\n",
        "L4 = np.array([\n",
        "    [0, 0, 0, 0],\n",
        "    [1, 2, 3, 4],\n",
        "    [0, 0, 0, 0]\n",
        "])\n",
        "\n",
        "L5 = np.array([\n",
        "    [1, 2, 1, 0],\n",
        "    [0, 0, 0, 0],\n",
        "    [0, 0, 0, 0]\n",
        "])\n",
        "\n",
        "TONG = A[L1] + B[L2] + C[L3] + D[L4] + E[L5]\n",
        "print(\"=== Ma trận tổng nguy cơ ===\")\n",
        "print(TONG)\n",
        "an_toan = TONG <= 5\n",
        "print(\"\\n=== Vị trí an toàn (True = an toàn) ===\")\n",
        "print(an_toan)\n",
        "\n"
      ],
      "metadata": {
        "colab": {
          "base_uri": "https://localhost:8080/"
        },
        "id": "4VqEaoq-2TZr",
        "outputId": "1cff1ab0-f775-404e-c2fb-af07e02ab9ab"
      },
      "execution_count": 20,
      "outputs": [
        {
          "output_type": "stream",
          "name": "stdout",
          "text": [
            "=== Ma trận tổng nguy cơ ===\n",
            "[[[10 10 10 10]\n",
            "  [10 10 10 10]\n",
            "  [ 4  4  4  4]\n",
            "  [ 6  6  6  6]]\n",
            "\n",
            " [[ 8  8  8  8]\n",
            "  [ 6  6  6  6]\n",
            "  [ 6  6  6  6]\n",
            "  [ 7  7  7  7]]\n",
            "\n",
            " [[ 6  6  6  6]\n",
            "  [ 8  8  8  8]\n",
            "  [10 10 10 10]\n",
            "  [ 6  6  6  6]]]\n",
            "\n",
            "=== Vị trí an toàn (True = an toàn) ===\n",
            "[[[False False False False]\n",
            "  [False False False False]\n",
            "  [ True  True  True  True]\n",
            "  [False False False False]]\n",
            "\n",
            " [[False False False False]\n",
            "  [False False False False]\n",
            "  [False False False False]\n",
            "  [False False False False]]\n",
            "\n",
            " [[False False False False]\n",
            "  [False False False False]\n",
            "  [False False False False]\n",
            "  [False False False False]]]\n"
          ]
        }
      ]
    }
  ]
}