{
  "nbformat": 4,
  "nbformat_minor": 0,
  "metadata": {
    "colab": {
      "provenance": []
    },
    "kernelspec": {
      "name": "python3",
      "display_name": "Python 3"
    },
    "language_info": {
      "name": "python"
    }
  },
  "cells": [
    {
      "cell_type": "code",
      "execution_count": 1,
      "metadata": {
        "colab": {
          "base_uri": "https://localhost:8080/"
        },
        "id": "hJLfEOmmpXBx",
        "outputId": "c6a0c67c-999c-4889-e281-10ebc2dc104b"
      },
      "outputs": [
        {
          "output_type": "stream",
          "name": "stdout",
          "text": [
            "Vấn đề 1: {x: 0, y: 2}\n",
            "Vấn đề 2: {x: 7, y: 5, z: -6}\n",
            "Vấn đề 3: {a: 1, b: -4, c: 7}\n",
            "Vấn đề 4: -oo + I*pi/9\n"
          ]
        }
      ],
      "source": [
        "#Câu 2\n",
        "from sympy import symbols, solve, integrate, ln\n",
        "\n",
        "# Vấn đề 1\n",
        "x, y = symbols('x y')\n",
        "eq1 = x - y + 2\n",
        "eq2 = 2*x + 3*y - 6\n",
        "sol1 = solve((eq1, eq2), (x, y))\n",
        "print(\"Vấn đề 1:\", sol1)\n",
        "# Vấn đề 2\n",
        "z = symbols('z')\n",
        "eq3 = x - y - 2\n",
        "eq4 = 2*x - y + z - 3\n",
        "eq5 = x + y + z - 6\n",
        "sol2 = solve((eq3, eq4, eq5), (x, y, z))\n",
        "print(\"Vấn đề 2:\", sol2)\n",
        "# Vấn đề 3\n",
        "a, b, c = symbols('a b c')\n",
        "eq6 = a + b + c - 4\n",
        "eq7 = 4*a + 2*b + c - 3\n",
        "eq8 = 9*a + 3*b + c - 4\n",
        "sol3 = solve((eq6, eq7, eq8), (a, b, c))\n",
        "print(\"Vấn đề 3:\", sol3)\n",
        "# Vấn đề 4\n",
        "x = symbols('x')\n",
        "f = (x * (x - 3)) / ((x - 1)**2 * (x + 2))\n",
        "integral = integrate(f, (x, 0, 1))\n",
        "print(\"Vấn đề 4:\", integral)"
      ]
    },
    {
      "cell_type": "code",
      "source": [
        "#Câu 3\n",
        "import numpy as np\n",
        "\n",
        "# Định nghĩa ma trận A\n",
        "A = np.array([[1, 1],\n",
        "              [1, 0]])\n",
        "\n",
        "def matrix_inverse(A):\n",
        "    det = A[0, 0] * A[1, 1] - A[0, 1] * A[1, 0]\n",
        "    if det == 0:\n",
        "        raise ValueError(\"Ma trận không khả nghịch\")\n",
        "    return (1 / det) * np.array([[A[1, 1], -A[0, 1]],\n",
        "                                 [-A[1, 0], A[0, 0]]])\n",
        "def matrix_power(A, k):\n",
        "    if k == 0:\n",
        "        return np.eye(2)\n",
        "    result = A\n",
        "    for _ in range(k - 1):\n",
        "        result = np.dot(result, A)\n",
        "    return result\n",
        "k = 2\n",
        "A_inv = matrix_inverse(A)\n",
        "A_inv_k = matrix_power(A_inv, k)\n",
        "print(f\"Ma trận A:\\n{A}\")\n",
        "print(f\"Ma trận nghịch đảo A^(-1):\\n{A_inv}\")\n",
        "print(f\"Ma trận (A^(-1))^({k}):\\n{A_inv_k}\")\n",
        "A_k = matrix_power(A, k)\n",
        "print(f\"Ma trận A^({k}):\\n{A_k}\")\n",
        "\n",
        "def fibonacci(n):\n",
        "    fib = [0, 1]\n",
        "    for i in range(2, n + 1):\n",
        "        fib.append(fib[i-1] + fib[i-2])\n",
        "    return fib\n",
        "\n",
        "fib_seq = fibonacci(k + 2)\n",
        "print(f\"Dãy Fibonacci đến F_{k+1}: {fib_seq}\")\n",
        "print(f\"Phần tử của A^({k}) so sánh với Fibonacci: \"\n",
        "      f\"F_{k+1}={fib_seq[k+1]}, F_{k}={fib_seq[k]}, F_{k-1}={fib_seq[k-1]}\")"
      ],
      "metadata": {
        "colab": {
          "base_uri": "https://localhost:8080/"
        },
        "id": "_-_6tJO9wV6E",
        "outputId": "54c7f5b4-2fb9-4465-cb98-e4d4f074a772"
      },
      "execution_count": 3,
      "outputs": [
        {
          "output_type": "stream",
          "name": "stdout",
          "text": [
            "Ma trận A:\n",
            "[[1 1]\n",
            " [1 0]]\n",
            "Ma trận nghịch đảo A^(-1):\n",
            "[[-0.  1.]\n",
            " [ 1. -1.]]\n",
            "Ma trận (A^(-1))^(2):\n",
            "[[ 1. -1.]\n",
            " [-1.  2.]]\n",
            "Ma trận A^(2):\n",
            "[[2 1]\n",
            " [1 1]]\n",
            "Dãy Fibonacci đến F_3: [0, 1, 1, 2, 3]\n",
            "Phần tử của A^(2) so sánh với Fibonacci: F_3=2, F_2=1, F_1=1\n"
          ]
        }
      ]
    },
    {
      "cell_type": "code",
      "source": [
        "# Một số hàm về xử lý vector với Python\n",
        "#Hàm scale\n",
        "def scale(a, v):\n",
        "    return [a * vi for vi in v]\n",
        "\n",
        "v = [3, 5, 7]\n",
        "scale(10, v)"
      ],
      "metadata": {
        "colab": {
          "base_uri": "https://localhost:8080/"
        },
        "id": "ziQsXJdtwsJb",
        "outputId": "852d960c-d3fb-4f89-a0da-9eab8a2d0c02"
      },
      "execution_count": 4,
      "outputs": [
        {
          "output_type": "execute_result",
          "data": {
            "text/plain": [
              "[30, 50, 70]"
            ]
          },
          "metadata": {},
          "execution_count": 4
        }
      ]
    },
    {
      "cell_type": "code",
      "source": [
        "#Hàm sumvector\n",
        "def sumvector(v, w):\n",
        "    return [vi + wi for (vi, wi) in zip(v, w)]\n",
        "\n",
        "v = [3, 5, 7]\n",
        "w = [2, 4, 6]\n",
        "sumvector(v, w)"
      ],
      "metadata": {
        "colab": {
          "base_uri": "https://localhost:8080/"
        },
        "id": "_M2jo4FOw_ZI",
        "outputId": "2eb2b60c-37f3-4bdd-a162-a9355fd9427e"
      },
      "execution_count": 5,
      "outputs": [
        {
          "output_type": "execute_result",
          "data": {
            "text/plain": [
              "[5, 9, 13]"
            ]
          },
          "metadata": {},
          "execution_count": 5
        }
      ]
    },
    {
      "cell_type": "code",
      "source": [
        "#Hàm dovector\n",
        "def dotvector(v, w):\n",
        "    return sum([vi * wi for (vi, wi) in zip(v, w)])\n",
        "\n",
        "v = [3, 5, 7]\n",
        "w = [2, 4, 6]\n",
        "dotvector(v, w)"
      ],
      "metadata": {
        "colab": {
          "base_uri": "https://localhost:8080/"
        },
        "id": "2HE7NtUdxeU8",
        "outputId": "d46404b2-c620-4032-8e6c-95b9e747b745"
      },
      "execution_count": 6,
      "outputs": [
        {
          "output_type": "execute_result",
          "data": {
            "text/plain": [
              "68"
            ]
          },
          "metadata": {},
          "execution_count": 6
        }
      ]
    },
    {
      "cell_type": "code",
      "source": [
        "#Hàm lenvector\n",
        "def lenvector(v):\n",
        "    return dotvector(v, v)\n",
        "\n",
        "w = [2, 4, 6]\n",
        "lenvector(w)"
      ],
      "metadata": {
        "colab": {
          "base_uri": "https://localhost:8080/"
        },
        "id": "CvBsgZ8mxl33",
        "outputId": "58b86c60-435a-4d05-9f59-cdcfe3c1af43"
      },
      "execution_count": 7,
      "outputs": [
        {
          "output_type": "execute_result",
          "data": {
            "text/plain": [
              "56"
            ]
          },
          "metadata": {},
          "execution_count": 7
        }
      ]
    },
    {
      "cell_type": "code",
      "source": [
        "#Phân loại tuyến tính\n",
        "import numpy as np\n",
        "\n",
        "# Phân loại nhị phân\n",
        "scores_binary = np.array([-1, 1, 2, -3, 5, -4])\n",
        "print(\"scores:\", scores_binary)\n",
        "print(\"scores >= 0:\", scores_binary >= 0)\n",
        "print(\"scores < 0:\", scores_binary < 0)\n",
        "# Sử dụng default='' để đảm bảo kiểu dữ liệu chuỗi\n",
        "print(\"np.select([scores >= 0, scores < 0], ['so duong', 'so am']):\",\n",
        "      np.select([scores >= 0, scores < 0], ['so duong', 'so am'], default=''))\n",
        "\n",
        "# Phân loại thành 3 loại\n",
        "scores_ternary = np.array([-1, 1, 2, 0, -3, 5, 0, -4])\n",
        "print(\"\\nscores:\", scores_ternary)\n",
        "# Sử dụng default='' cho phân loại 3 loại\n",
        "print(\"np.select([scores > 0, scores == 0, scores < 0], ['so duong', 'so 0', 'so am']):\",\n",
        "      np.select([scores > 0, scores == 0, scores < 0], ['so duong', 'so 0', 'so am'], default=''))"
      ],
      "metadata": {
        "colab": {
          "base_uri": "https://localhost:8080/"
        },
        "id": "K7Lxe-dyxroz",
        "outputId": "4a5a95af-1a27-4439-ff6a-038f30ac2647"
      },
      "execution_count": 13,
      "outputs": [
        {
          "output_type": "stream",
          "name": "stdout",
          "text": [
            "scores: [-1  1  2 -3  5 -4]\n",
            "scores >= 0: [False  True  True False  True False]\n",
            "scores < 0: [ True False False  True False  True]\n",
            "np.select([scores >= 0, scores < 0], ['so duong', 'so am']): ['so am' 'so duong' 'so duong' 'so am' 'so duong' 'so am']\n",
            "\n",
            "scores: [-1  1  2  0 -3  5  0 -4]\n",
            "np.select([scores > 0, scores == 0, scores < 0], ['so duong', 'so 0', 'so am']): ['so am' 'so duong' 'so duong' 'so am' 'so duong' 'so am']\n"
          ]
        }
      ]
    },
    {
      "cell_type": "code",
      "source": [
        "#Cơ bản về xử lý ma trận\n",
        "import numpy as np\n",
        "from scipy import linalg, sparse\n",
        "\n",
        "# STT 3 & 4: Tạo và in ma trận D\n",
        "D = np.mat([[3, 4], [5, 6]])\n",
        "print(\"D:\\n\", D)\n",
        "\n",
        "# STT 5 & 6: Tạo và in ma trận C (kích thước 5x7, ngẫu nhiên)\n",
        "C = np.mat(np.random.random((5, 7)))\n",
        "print(\"C:\\n\", C)\n",
        "\n",
        "# STT 7 & 8: Tạo và in ma trận A (kích thước 2x2, ngẫu nhiên)\n",
        "A = np.mat(np.random.random((2, 2)))\n",
        "print(\"A:\\n\", A)\n",
        "\n",
        "# STT 9 & 10 & 11 & 12: Tạo mảng b, chuyển thành ma trận B và in\n",
        "b = np.array([(1+5j, 2j, 3j), (4, 5, 6)])\n",
        "print(\"b:\\n\", b)\n",
        "B = np.asmatrix(b)\n",
        "print(\"B:\\n\", B)\n",
        "\n",
        "# STT 13: Chuyển vị ma trận A\n",
        "print(\"A.T:\\n\", A.T)\n",
        "\n",
        "# STT 14 & 15: Ma trận nghịch đảo của A\n",
        "print(\"A.I:\\n\", A.I)\n",
        "print(\"linalg.inv(A):\\n\", linalg.inv(A))\n",
        "\n",
        "# STT 16 & 17 & 18: Ma trận tam giác dưới\n",
        "M = np.array([[-1, 3, 2], [0, 2, 1], [1, 5, -2]])\n",
        "M_lower = np.tril(M)\n",
        "print(\"M_lower:\\n\", M_lower)\n",
        "\n",
        "# STT 19 & 20 & 21: Ma trận tam giác trên\n",
        "M = np.array([[-1, 3, 2], [0, 2, 1], [1, 5, -2]])\n",
        "M_upper = np.triu(M)\n",
        "print(\"M_upper:\\n\", M_upper)\n",
        "\n",
        "# STT 22 & 23 & 24 & 25 & 26: Vector và ma trận đường chéo\n",
        "M = np.array([[-1, 3, 2], [0, 2, 1], [1, 5, -2]])\n",
        "v_diag = np.diag(M)\n",
        "print(\"v_diag:\\n\", v_diag)\n",
        "M_diag = np.diag(v_diag)\n",
        "print(\"M_diag:\\n\", M_diag)"
      ],
      "metadata": {
        "id": "mq7euBQF01d2"
      },
      "execution_count": null,
      "outputs": []
    },
    {
      "cell_type": "code",
      "source": [
        "import numpy as np\n",
        "\n",
        "# Xây dựng ma trận A 6x6\n",
        "A = np.reshape(np.arange(36.0), (6, 6))\n",
        "print(\"A:\\n\", A)\n",
        "\n",
        "# Ma trận đơn vị 6x6\n",
        "I6 = np.identity(6)\n",
        "print(\"I6:\\n\", I6)\n",
        "\n",
        "# Kích thước và đường chéo\n",
        "print(\"A.size:\", A.size)\n",
        "print(\"np.matrix.diagonal(A):\", np.matrix.diagonal(A))\n",
        "\n",
        "# Cộng ma trận\n",
        "A = A + I6\n",
        "print(\"A = A + I6:\\n\", A)\n",
        "\n",
        "# Tích với vector\n",
        "vecB = np.array([1., 2., 3., 4., 5., 6.])\n",
        "C = A.dot(vecB)\n",
        "print(\"C = A.dot(vecB):\\n\", C)\n",
        "\n",
        "# Ma trận D 2x6\n",
        "D = np.array([[1., 2., 3., 4., 5., 6.], [1., 0., 1., 0., 1., 0.]])\n",
        "print(\"D:\\n\", D)\n",
        "\n",
        "# Tích A và D^T (chuyển vị D để phù hợp kích thước)\n",
        "D_transpose = D.T  # Chuyển D từ 2x6 thành 6x2\n",
        "E = A.dot(D_transpose)\n",
        "print(\"E = A.dot(D^T):\\n\", E)\n",
        "\n",
        "# Ma trận F 6x2\n",
        "F = np.array([[1., 1.], [2., 0.], [3., 1.], [4., 0.], [5., 1.], [6., 0.]])\n",
        "print(\"F:\\n\", F)\n",
        "\n",
        "# Tích A và F\n",
        "G = A.dot(F)\n",
        "print(\"G = A.dot(F):\\n\", G)\n",
        "\n",
        "# Ma trận nghịch đảo\n",
        "print(\"np.linalg.inv(A):\\n\", np.linalg.inv(A))\n",
        "\n",
        "# Kiểm tra nghịch đảo của nghịch đảo\n",
        "print(\"np.linalg.inv(np.linalg.inv(A)):\\n\", np.linalg.inv(np.linalg.inv(A)))"
      ],
      "metadata": {
        "colab": {
          "base_uri": "https://localhost:8080/"
        },
        "id": "dOfCXH8R05rB",
        "outputId": "b861449c-ce83-499e-cbe2-ea8ca1a915d0"
      },
      "execution_count": 17,
      "outputs": [
        {
          "output_type": "stream",
          "name": "stdout",
          "text": [
            "A:\n",
            " [[ 0.  1.  2.  3.  4.  5.]\n",
            " [ 6.  7.  8.  9. 10. 11.]\n",
            " [12. 13. 14. 15. 16. 17.]\n",
            " [18. 19. 20. 21. 22. 23.]\n",
            " [24. 25. 26. 27. 28. 29.]\n",
            " [30. 31. 32. 33. 34. 35.]]\n",
            "I6:\n",
            " [[1. 0. 0. 0. 0. 0.]\n",
            " [0. 1. 0. 0. 0. 0.]\n",
            " [0. 0. 1. 0. 0. 0.]\n",
            " [0. 0. 0. 1. 0. 0.]\n",
            " [0. 0. 0. 0. 1. 0.]\n",
            " [0. 0. 0. 0. 0. 1.]]\n",
            "A.size: 36\n",
            "np.matrix.diagonal(A): [ 0.  7. 14. 21. 28. 35.]\n",
            "A = A + I6:\n",
            " [[ 1.  1.  2.  3.  4.  5.]\n",
            " [ 6.  8.  8.  9. 10. 11.]\n",
            " [12. 13. 15. 15. 16. 17.]\n",
            " [18. 19. 20. 22. 22. 23.]\n",
            " [24. 25. 26. 27. 29. 29.]\n",
            " [30. 31. 32. 33. 34. 36.]]\n",
            "C = A.dot(vecB):\n",
            " [ 71. 198. 325. 452. 579. 706.]\n",
            "D:\n",
            " [[1. 2. 3. 4. 5. 6.]\n",
            " [1. 0. 1. 0. 1. 0.]]\n",
            "E = A.dot(D^T):\n",
            " [[ 71.   7.]\n",
            " [198.  24.]\n",
            " [325.  43.]\n",
            " [452.  60.]\n",
            " [579.  79.]\n",
            " [706.  96.]]\n",
            "F:\n",
            " [[1. 1.]\n",
            " [2. 0.]\n",
            " [3. 1.]\n",
            " [4. 0.]\n",
            " [5. 1.]\n",
            " [6. 0.]]\n",
            "G = A.dot(F):\n",
            " [[ 71.   7.]\n",
            " [198.  24.]\n",
            " [325.  43.]\n",
            " [452.  60.]\n",
            " [579.  79.]\n",
            " [706.  96.]]\n",
            "np.linalg.inv(A):\n",
            " [[ 0.37022901 -0.45610687 -0.28244275 -0.10877863  0.0648855   0.23854962]\n",
            " [-0.44656489  0.65839695 -0.23664122 -0.13167939 -0.02671756  0.07824427]\n",
            " [-0.26335878 -0.22709924  0.80916031 -0.15458015 -0.11832061 -0.08206107]\n",
            " [-0.08015267 -0.11259542 -0.14503817  0.82251908 -0.20992366 -0.24236641]\n",
            " [ 0.10305344  0.0019084  -0.09923664 -0.20038168  0.69847328 -0.40267176]\n",
            " [ 0.28625954  0.11641221 -0.05343511 -0.22328244 -0.39312977  0.4370229 ]]\n",
            "np.linalg.inv(np.linalg.inv(A)):\n",
            " [[ 1.  1.  2.  3.  4.  5.]\n",
            " [ 6.  8.  8.  9. 10. 11.]\n",
            " [12. 13. 15. 15. 16. 17.]\n",
            " [18. 19. 20. 22. 22. 23.]\n",
            " [24. 25. 26. 27. 29. 29.]\n",
            " [30. 31. 32. 33. 34. 36.]]\n"
          ]
        }
      ]
    },
    {
      "cell_type": "code",
      "source": [
        "#4. Bài toán ứng dụng 2 – Tính toán dãy Fibonacci: Con đường tìm đến tỉ số vàng\n",
        "import numpy as np\n",
        "A = np.array([[1, 1], [1, 0]])\n",
        "b = np.array([1, 0])\n",
        "n = 10\n",
        "for i in range(n):\n",
        "    b = A.dot(b)\n",
        "    print(b)"
      ],
      "metadata": {
        "colab": {
          "base_uri": "https://localhost:8080/"
        },
        "id": "HtzMuYyO16Wb",
        "outputId": "0648eb29-4dc7-404e-d208-145a2b475c67"
      },
      "execution_count": 18,
      "outputs": [
        {
          "output_type": "stream",
          "name": "stdout",
          "text": [
            "[1 1]\n",
            "[2 1]\n",
            "[3 2]\n",
            "[5 3]\n",
            "[8 5]\n",
            "[13  8]\n",
            "[21 13]\n",
            "[34 21]\n",
            "[55 34]\n",
            "[89 55]\n"
          ]
        }
      ]
    },
    {
      "cell_type": "code",
      "source": [
        "# Nếu bạn dùng Google Colab thì thường không cần dòng này, vì sympy đã có sẵn\n",
        "!pip install sympy\n",
        "\n",
        "import numpy as np\n",
        "import sympy as sp\n",
        "from sympy import Eq\n",
        "# Phần 1: Tính 11 số Fibonacci đầu tiên\n",
        "print(\"Dãy Fibonacci (F_n+1, F_n):\")\n",
        "A = np.array([[1, 1], [1, 0]])\n",
        "b = np.array([1, 0])\n",
        "n = 10\n",
        "for i in range(n):\n",
        "    b = A.dot(b)\n",
        "    print(b)\n",
        "\n",
        "# Phần 2: Giải hệ phương trình bằng SymPy\n",
        "# Khai báo các biến\n",
        "x1, x2, x3, x4 = sp.symbols('x1 x2 x3 x4')\n",
        "# Thiết lập các phương trình\n",
        "pt1 = Eq(x4 + 610, 450 + x1)   # x4 + 610 = 450 + x1\n",
        "pt2 = Eq(x1 + 400, x2 + 640)   # x1 + 400 = x2 + 640\n",
        "pt3 = Eq(x2 + 600, x3)         # x2 + 600 = x3\n",
        "pt4 = Eq(x3, x4 + 520)         # x3 = x4 + 520\n",
        "# Giải hệ phương trình\n",
        "nghiem = sp.solve((pt1, pt2, pt3, pt4), (x1, x2, x3, x4))\n",
        "print(\"\\nNghiệm SymPy:\", nghiem)\n",
        "# Phần 3: Giải bằng ma trận tuyến tính (NumPy)\n",
        "# Tạo ma trận hệ số A và vector hằng số b\n",
        "A_mat = np.array([\n",
        "    [-1,  0,  0,  1],  # từ pt1: -x1 + x4 = -160\n",
        "    [ 1, -1,  0,  0],  # từ pt2: x1 - x2 = 240\n",
        "    [ 0,  1, -1,  0],  # từ pt3: x2 - x3 = -600\n",
        "    [ 0,  0,  1, -1]   # từ pt4: x3 - x4 = 520\n",
        "])\n",
        "b_vec = np.array([-160, 240, -600, 520])\n",
        "\n",
        "# Giải hệ bằng lstsq (do ma trận A suy biến)\n",
        "x, residuals, rank, s = np.linalg.lstsq(A_mat, b_vec, rcond=None)\n",
        "print(\"\\nNghiệm x (x1, x2, x3, x4):\", x)\n"
      ],
      "metadata": {
        "colab": {
          "base_uri": "https://localhost:8080/"
        },
        "id": "S5xEqZVS2QQm",
        "outputId": "6ddfc175-d2c0-4efe-af60-3cb88368481c"
      },
      "execution_count": 24,
      "outputs": [
        {
          "output_type": "stream",
          "name": "stdout",
          "text": [
            "Requirement already satisfied: sympy in /usr/local/lib/python3.11/dist-packages (1.13.1)\n",
            "Requirement already satisfied: mpmath<1.4,>=1.1.0 in /usr/local/lib/python3.11/dist-packages (from sympy) (1.3.0)\n",
            "Dãy Fibonacci (F_n+1, F_n):\n",
            "[1 1]\n",
            "[2 1]\n",
            "[3 2]\n",
            "[5 3]\n",
            "[8 5]\n",
            "[13  8]\n",
            "[21 13]\n",
            "[34 21]\n",
            "[55 34]\n",
            "[89 55]\n",
            "\n",
            "Nghiệm SymPy: {x1: x4 + 160, x2: x4 - 80, x3: x4 + 520}\n",
            "\n",
            "Nghiệm x (x1, x2, x3, x4): [  10. -230.  370. -150.]\n"
          ]
        }
      ]
    },
    {
      "cell_type": "code",
      "source": [],
      "metadata": {
        "id": "cwxEJkGu2vzN"
      },
      "execution_count": null,
      "outputs": []
    }
  ]
}